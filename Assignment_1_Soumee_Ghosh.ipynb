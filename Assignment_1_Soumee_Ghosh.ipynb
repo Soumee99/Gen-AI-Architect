{
 "cells": [
  {
   "cell_type": "markdown",
   "id": "8873bf71",
   "metadata": {},
   "source": [
    "### Assignment: Real-Time Market Sentiment Analyzer Using LangChain Chains\n",
    "\n",
    "#### Objective\n",
    "Build a LangChain-powered pipeline (Chain) that:\n",
    "1. Accepts a company name as input.\n",
    "2. Extracts or generates its stock code.\n",
    "3. Uses News search tools in LangChain to fetch news about the company.\n",
    "4. Sends the news to an LLM (Google Gemini-2.0-flash) to generate a structured \n",
    "sentiment profile.\n",
    "5. Outputs the result as a JSON object.\n",
    "6. Uses mlflow for tracing, prompt debugging, and monitoring."
   ]
  },
  {
   "cell_type": "markdown",
   "id": "a3f7a4da",
   "metadata": {},
   "source": [
    "### Installing the packages"
   ]
  },
  {
   "cell_type": "code",
   "execution_count": 2,
   "id": "04016045",
   "metadata": {},
   "outputs": [
    {
     "name": "stdout",
     "output_type": "stream",
     "text": [
      "\n",
      "\u001b[1m[\u001b[0m\u001b[34;49mnotice\u001b[0m\u001b[1;39;49m]\u001b[0m\u001b[39;49m A new release of pip is available: \u001b[0m\u001b[31;49m24.0\u001b[0m\u001b[39;49m -> \u001b[0m\u001b[32;49m25.2\u001b[0m\n",
      "\u001b[1m[\u001b[0m\u001b[34;49mnotice\u001b[0m\u001b[1;39;49m]\u001b[0m\u001b[39;49m To update, run: \u001b[0m\u001b[32;49mpip install --upgrade pip\u001b[0m\n",
      "\n",
      "\u001b[1m[\u001b[0m\u001b[34;49mnotice\u001b[0m\u001b[1;39;49m]\u001b[0m\u001b[39;49m A new release of pip is available: \u001b[0m\u001b[31;49m24.0\u001b[0m\u001b[39;49m -> \u001b[0m\u001b[32;49m25.2\u001b[0m\n",
      "\u001b[1m[\u001b[0m\u001b[34;49mnotice\u001b[0m\u001b[1;39;49m]\u001b[0m\u001b[39;49m To update, run: \u001b[0m\u001b[32;49mpip install --upgrade pip\u001b[0m\n",
      "\n",
      "\u001b[1m[\u001b[0m\u001b[34;49mnotice\u001b[0m\u001b[1;39;49m]\u001b[0m\u001b[39;49m A new release of pip is available: \u001b[0m\u001b[31;49m24.0\u001b[0m\u001b[39;49m -> \u001b[0m\u001b[32;49m25.2\u001b[0m\n",
      "\u001b[1m[\u001b[0m\u001b[34;49mnotice\u001b[0m\u001b[1;39;49m]\u001b[0m\u001b[39;49m To update, run: \u001b[0m\u001b[32;49mpip install --upgrade pip\u001b[0m\n",
      "Note: you may need to restart the kernel to use updated packages.\n",
      "\n",
      "\u001b[1m[\u001b[0m\u001b[34;49mnotice\u001b[0m\u001b[1;39;49m]\u001b[0m\u001b[39;49m A new release of pip is available: \u001b[0m\u001b[31;49m24.0\u001b[0m\u001b[39;49m -> \u001b[0m\u001b[32;49m25.2\u001b[0m\n",
      "\u001b[1m[\u001b[0m\u001b[34;49mnotice\u001b[0m\u001b[1;39;49m]\u001b[0m\u001b[39;49m To update, run: \u001b[0m\u001b[32;49mpip install --upgrade pip\u001b[0m\n",
      "Note: you may need to restart the kernel to use updated packages.\n",
      "\n",
      "\u001b[1m[\u001b[0m\u001b[34;49mnotice\u001b[0m\u001b[1;39;49m]\u001b[0m\u001b[39;49m A new release of pip is available: \u001b[0m\u001b[31;49m24.0\u001b[0m\u001b[39;49m -> \u001b[0m\u001b[32;49m25.2\u001b[0m\n",
      "\u001b[1m[\u001b[0m\u001b[34;49mnotice\u001b[0m\u001b[1;39;49m]\u001b[0m\u001b[39;49m To update, run: \u001b[0m\u001b[32;49mpip install --upgrade pip\u001b[0m\n",
      "Note: you may need to restart the kernel to use updated packages.\n",
      "\n",
      "\u001b[1m[\u001b[0m\u001b[34;49mnotice\u001b[0m\u001b[1;39;49m]\u001b[0m\u001b[39;49m A new release of pip is available: \u001b[0m\u001b[31;49m24.0\u001b[0m\u001b[39;49m -> \u001b[0m\u001b[32;49m25.2\u001b[0m\n",
      "\u001b[1m[\u001b[0m\u001b[34;49mnotice\u001b[0m\u001b[1;39;49m]\u001b[0m\u001b[39;49m To update, run: \u001b[0m\u001b[32;49mpip install --upgrade pip\u001b[0m\n",
      "Note: you may need to restart the kernel to use updated packages.\n"
     ]
    }
   ],
   "source": [
    "!python -m pip install langchain langchain-core langchain-community langchain-experimental --quiet\n",
    "!python -m pip install -U langchain-google-genai --quiet\n",
    "%pip install --upgrade --quiet  yfinance\n",
    "%pip install langchain wikipedia-api --quiet\n",
    "%pip install wikipedia --quiet\n",
    "%pip install mlflow --quiet"
   ]
  },
  {
   "cell_type": "markdown",
   "id": "a96ed9ea",
   "metadata": {},
   "source": [
    "### Importing Libraries"
   ]
  },
  {
   "cell_type": "code",
   "execution_count": 1,
   "id": "76c33843",
   "metadata": {},
   "outputs": [
    {
     "name": "stderr",
     "output_type": "stream",
     "text": [
      "USER_AGENT environment variable not set, consider setting it to identify your requests.\n"
     ]
    }
   ],
   "source": [
    "from google import genai\n",
    "from google.genai.types import HttpOptions\n",
    "from langchain_community.tools.yahoo_finance_news import YahooFinanceNewsTool\n",
    "from langchain_core.prompts import ChatPromptTemplate\n",
    "from langchain.chat_models import init_chat_model\n",
    "from langchain.prompts import PromptTemplate\n",
    "from langchain.chains import LLMChain\n",
    "from langchain.prompts import PromptTemplate\n",
    "from langchain_community.tools import WikipediaQueryRun\n",
    "from langchain_community.utilities import WikipediaAPIWrapper\n",
    "from pydantic import BaseModel, Field\n",
    "from typing import Dict, Any\n",
    "\n",
    "\n",
    "\n",
    "\n",
    "from langchain_core.output_parsers import StrOutputParser,JsonOutputParser\n",
    "\n",
    "\n",
    "parser = StrOutputParser()\n",
    "parser_1=JsonOutputParser()\n",
    "\n",
    "###Intialising the client\n",
    "client = genai.Client(http_options=HttpOptions(api_version='v1'))\n",
    "from pydantic import BaseModel, Field\n",
    "import pprint"
   ]
  },
  {
   "cell_type": "markdown",
   "id": "90757b2d",
   "metadata": {},
   "source": [
    "### assigning the model"
   ]
  },
  {
   "cell_type": "code",
   "execution_count": 2,
   "id": "864f0d42",
   "metadata": {},
   "outputs": [],
   "source": [
    "model_name='gemini-2.0-flash'"
   ]
  },
  {
   "cell_type": "markdown",
   "id": "48362ec0",
   "metadata": {},
   "source": [
    "### Initialising the model"
   ]
  },
  {
   "cell_type": "code",
   "execution_count": 3,
   "id": "c136b72c",
   "metadata": {},
   "outputs": [],
   "source": [
    "model = init_chat_model(model_name, model_provider=\"google_genai\")"
   ]
  },
  {
   "cell_type": "code",
   "execution_count": 4,
   "id": "a9ef7370",
   "metadata": {},
   "outputs": [
    {
     "data": {
      "text/plain": [
       "True"
      ]
     },
     "execution_count": 4,
     "metadata": {},
     "output_type": "execute_result"
    }
   ],
   "source": [
    "# Load API keys from .env file\n",
    "from dotenv import load_dotenv\n",
    "\n",
    "load_dotenv(override=True)"
   ]
  },
  {
   "cell_type": "code",
   "execution_count": null,
   "id": "9ce7e4bf",
   "metadata": {},
   "outputs": [],
   "source": []
  },
  {
   "cell_type": "markdown",
   "id": "a9a5f755",
   "metadata": {},
   "source": [
    "### Setting the ML flow Tracking URI/"
   ]
  },
  {
   "cell_type": "code",
   "execution_count": null,
   "id": "bef529e4",
   "metadata": {},
   "outputs": [],
   "source": [
    "import mlflow\n",
    "mlflow.set_tracking_uri(\"enter the ML Flow tracking url here\")\n"
   ]
  },
  {
   "cell_type": "code",
   "execution_count": null,
   "id": "4d505846",
   "metadata": {},
   "outputs": [
    {
     "data": {
      "text/plain": [
       "<Experiment: artifact_location='/home/zadmin/Desktop/test/GAAI-B5-GCP/ML_FLOW_TRACKING_URI/932135586498962336', creation_time=1758278544166, experiment_id='932135586498962336', last_update_time=1758278544166, lifecycle_stage='active', name='SG_Sentiment_Analysis_1', tags={}>"
      ]
     },
     "execution_count": 6,
     "metadata": {},
     "output_type": "execute_result"
    }
   ],
   "source": [
    "mlflow.set_experiment(\"SG_Sentiment_Analysis\")"
   ]
  },
  {
   "cell_type": "markdown",
   "id": "357ec94f",
   "metadata": {},
   "source": [
    "#### Entering the company name"
   ]
  },
  {
   "cell_type": "code",
   "execution_count": 6,
   "id": "dda61f73",
   "metadata": {},
   "outputs": [
    {
     "name": "stdout",
     "output_type": "stream",
     "text": [
      "Tesla Inc\n"
     ]
    }
   ],
   "source": [
    "company_name=input(\"Enter the company name:\")\n",
    "print(company_name)"
   ]
  },
  {
   "cell_type": "markdown",
   "id": "7a2f6554",
   "metadata": {},
   "source": [
    "### Stock Ticker Library"
   ]
  },
  {
   "cell_type": "code",
   "execution_count": 7,
   "id": "eeab0000",
   "metadata": {},
   "outputs": [],
   "source": [
    "\n",
    "stock_tickers = {\n",
    "    \"Apple Inc\": \"AAPL\",\n",
    "    \"Microsoft Corporation\": \"MSFT\",\n",
    "    \"Amazon.com Inc\": \"AMZN\",\n",
    "    \"Alphabet Inc\": \"GOOGL\",\n",
    "    \"NVIDIA Corporation\": \"NVDA\",\n",
    "    \"Meta Platforms Inc\": \"META\",\n",
    "    \"Broadcom Inc\": \"AVGO\",\n",
    "    \"Tesla Inc\": \"TSLA\",\n",
    "    \"Taiwan Semiconductor\": \"TSM\",\n",
    "    \"Berkshire Hathaway Inc\": \"BRK.B\",\n",
    "    \"JPMorgan Chase & Co\": \"JPM\",\n",
    "    \"Walmart Inc\": \"WMT\",\n",
    "    \"Oracle Corporation\": \"ORCL\",\n",
    "    \"Eli Lilly and Company\": \"LLY\",\n",
    "    \"Visa Inc\": \"V\",\n",
    "    \"Mastercard Inc\": \"MA\",\n",
    "    \"Netflix Inc\": \"NFLX\",\n",
    "    \"Exxon Mobil Corporation\": \"XOM\",\n",
    "    \"Costco Wholesale Corporation\": \"COST\",\n",
    "    \"Johnson & Johnson\": \"JNJ\",\n",
    "    \"The Home Depot Inc\": \"HD\",\n",
    "    \"Palantir Technologies Inc\": \"PLTR\",\n",
    "    \"AbbVie Inc\": \"ABBV\",\n",
    "    \"Bank of America Corporation\": \"BAC\",\n",
    "    \"Procter & Gamble\": \"PG\",\n",
    "    \"UnitedHealth Group\": \"UNH\",\n",
    "    \"Chevron Corporation\": \"CVX\",\n",
    "    \"ASML Holding N.V.\": \"ASML\",\n",
    "    \"SAP SE\": \"SAP\",\n",
    "    \"General Electric Company\": \"GE\",\n",
    "    \"The Coca-Cola Company\": \"KO\",\n",
    "    \"T-Mobile US Inc\": \"TMUS\",\n",
    "    \"Cisco Systems Inc\": \"CSCO\",\n",
    "    \"Wells Fargo & Company\": \"WFC\",\n",
    "    \"Philip Morris International\": \"PM\",\n",
    "    \"Advanced Micro Devices Inc\": \"AMD\",\n",
    "    \"Toyota Motor Corporation\": \"TM\",\n",
    "    \"Morgan Stanley\": \"MS\",\n",
    "    \"AstraZeneca PLC\": \"AZN\",\n",
    "    \"The Goldman Sachs Group Inc\": \"GS\"\n",
    "}\n"
   ]
  },
  {
   "cell_type": "markdown",
   "id": "991ec4d7",
   "metadata": {},
   "source": [
    "### Extract the stock ticker from user entered comapny name"
   ]
  },
  {
   "cell_type": "code",
   "execution_count": 8,
   "id": "05fcd341",
   "metadata": {},
   "outputs": [
    {
     "name": "stdout",
     "output_type": "stream",
     "text": [
      "TSLA\n"
     ]
    },
    {
     "data": {
      "text/html": [
       "\n",
       "<div>\n",
       "  <style scoped>\n",
       "  button {\n",
       "    border: none;\n",
       "    border-radius: 4px;\n",
       "    background-color: rgb(34, 114, 180);\n",
       "    font-family: -apple-system, \"system-ui\", \"Segoe UI\", Roboto, \"Helvetica Neue\", Arial;\n",
       "    font-size: 13px;\n",
       "    color: white;\n",
       "    margin-top: 8px;\n",
       "    margin-bottom: 8px;\n",
       "    padding: 8px 16px;\n",
       "    cursor: pointer;\n",
       "  }\n",
       "  button:hover {\n",
       "    background-color: rgb(66, 153, 224);\n",
       "  }\n",
       "  </style>\n",
       "  <button\n",
       "    onclick=\"\n",
       "        const display = this.nextElementSibling.style.display;\n",
       "        const isCollapsed = display === 'none';\n",
       "        this.nextElementSibling.style.display = isCollapsed ? null : 'none';\n",
       "\n",
       "        const verb = isCollapsed ? 'Collapse' : 'Expand';\n",
       "        this.innerText = `${verb} MLflow Trace`;\n",
       "    \"\n",
       "  >Collapse MLflow Trace</button>\n",
       "  <iframe\n",
       "    id=\"trace-renderer\"\n",
       "    style=\"width: 100%; height: 500px; border: none; resize: vertical;\"\n",
       "    src=\"http://20.75.92.162:5000/static-files/lib/notebook-trace-renderer/index.html?trace_id=tr-aab4fcba427646c4035cd5e716bf9344&amp;experiment_id=555864553691571308&amp;version=3.3.2\"\n",
       "  />\n",
       "</div>\n"
      ],
      "text/plain": [
       "Trace(trace_id=tr-aab4fcba427646c4035cd5e716bf9344)"
      ]
     },
     "metadata": {},
     "output_type": "display_data"
    }
   ],
   "source": [
    "### A function to extract the stock ticker or symbol\n",
    "@mlflow.trace\n",
    "def get_stock_ticker(company_name):\n",
    "    lookup = stock_tickers\n",
    "    return lookup.get(company_name, \"UNKNOWN\")\n",
    "stock_code = get_stock_ticker(company_name)\n",
    "print(stock_code)\n"
   ]
  },
  {
   "cell_type": "code",
   "execution_count": null,
   "id": "d45ba886",
   "metadata": {},
   "outputs": [
    {
     "name": "stderr",
     "output_type": "stream",
     "text": [
      "USER_AGENT environment variable not set, consider setting it to identify your requests.\n"
     ]
    }
   ],
   "source": [
    "\n",
    "\n",
    "\n",
    "\n",
    "# tool = YahooFinanceNewsTool()\n",
    "# tool.invoke(\"AAPL\")"
   ]
  },
  {
   "cell_type": "markdown",
   "id": "cf68ad6b",
   "metadata": {},
   "source": [
    "### 3. Uses News search tools in LangChain to fetch news about the company"
   ]
  },
  {
   "cell_type": "code",
   "execution_count": 9,
   "id": "764cbb73",
   "metadata": {},
   "outputs": [
    {
     "name": "stdout",
     "output_type": "stream",
     "text": [
      "\u001b[32;1m\u001b[1;3mTesla (TSLA) Opens Cybertruck Orders in UAE\n",
      "Tesla, Inc. (NASDAQ:TSLA) is one of the 10 Best NASDAQ Stocks to Buy For Long Term. On September 16, Tesla, Inc. (NASDAQ:TSLA) announced on X that it has officially opened Cybertruck orders in the United Arab Emirates (UAE), allowing reservation holders in the country to order. This marks the beginning of Tesla, Inc.’s (NASDAQ:TSLA) launch […]\n",
      "\n",
      "Jim Cramer Notes Elon Musk’s Significant Purchase of Tesla Stock\n",
      "Tesla, Inc. (NASDAQ:TSLA) is one of the stocks Jim Cramer weighed in on. Cramer discussed the company CEO’s purchase of $1 billion worth of stock recently, as he stated: “When we came up with the term FANG, which stood for, at that point, Meta, Amazon, Netflix, and then Alphabet a dozen years ago, all I […]\n",
      "\n",
      "Tesla Stock (TSLA) Backed by Morgan Stanley on Physical AI Opportunity\n",
      "Tesla, Inc. (NASDAQ:TSLA) is one of the AI Stocks Making Headlines This Week. On September 16, Morgan Stanley reiterated the stock as “Overweight” and said it’s sticking with Tesla. “Tesla is by far the smallest market cap of the Mag 7 (ex TSLA ‘Mag 6’ have an average market cap of $3.2tn), but arguably has the largest addressable […]\u001b[0m('Tesla (TSLA) Opens Cybertruck Orders in UAE\\n'\n",
      " 'Tesla, Inc. (NASDAQ:TSLA) is one of the 10 Best NASDAQ Stocks to Buy For '\n",
      " 'Long Term. On September 16, Tesla, Inc. (NASDAQ:TSLA) announced on X that it '\n",
      " 'has officially opened Cybertruck orders in the United Arab Emirates (UAE), '\n",
      " 'allowing reservation holders in the country to order. This marks the '\n",
      " 'beginning of Tesla, Inc.’s (NASDAQ:TSLA) launch […]\\n'\n",
      " '\\n'\n",
      " 'Jim Cramer Notes Elon Musk’s Significant Purchase of Tesla Stock\\n'\n",
      " 'Tesla, Inc. (NASDAQ:TSLA) is one of the stocks Jim Cramer weighed in on. '\n",
      " 'Cramer discussed the company CEO’s purchase of $1 billion worth of stock '\n",
      " 'recently, as he stated: “When we came up with the term FANG, which stood '\n",
      " 'for, at that point, Meta, Amazon, Netflix, and then Alphabet a dozen years '\n",
      " 'ago, all I […]\\n'\n",
      " '\\n'\n",
      " 'Tesla Stock (TSLA) Backed by Morgan Stanley on Physical AI Opportunity\\n'\n",
      " 'Tesla, Inc. (NASDAQ:TSLA) is one of the AI Stocks Making Headlines This '\n",
      " 'Week. On September 16, Morgan Stanley reiterated the stock as “Overweight” '\n",
      " 'and said it’s sticking with Tesla. “Tesla is by far the smallest market cap '\n",
      " 'of the Mag 7 (ex TSLA ‘Mag 6’ have an average market cap of $3.2tn), but '\n",
      " 'arguably has the largest addressable […]')\n"
     ]
    },
    {
     "data": {
      "text/html": [
       "\n",
       "<div>\n",
       "  <style scoped>\n",
       "  button {\n",
       "    border: none;\n",
       "    border-radius: 4px;\n",
       "    background-color: rgb(34, 114, 180);\n",
       "    font-family: -apple-system, \"system-ui\", \"Segoe UI\", Roboto, \"Helvetica Neue\", Arial;\n",
       "    font-size: 13px;\n",
       "    color: white;\n",
       "    margin-top: 8px;\n",
       "    margin-bottom: 8px;\n",
       "    padding: 8px 16px;\n",
       "    cursor: pointer;\n",
       "  }\n",
       "  button:hover {\n",
       "    background-color: rgb(66, 153, 224);\n",
       "  }\n",
       "  </style>\n",
       "  <button\n",
       "    onclick=\"\n",
       "        const display = this.nextElementSibling.style.display;\n",
       "        const isCollapsed = display === 'none';\n",
       "        this.nextElementSibling.style.display = isCollapsed ? null : 'none';\n",
       "\n",
       "        const verb = isCollapsed ? 'Collapse' : 'Expand';\n",
       "        this.innerText = `${verb} MLflow Trace`;\n",
       "    \"\n",
       "  >Collapse MLflow Trace</button>\n",
       "  <iframe\n",
       "    id=\"trace-renderer\"\n",
       "    style=\"width: 100%; height: 500px; border: none; resize: vertical;\"\n",
       "    src=\"http://20.75.92.162:5000/static-files/lib/notebook-trace-renderer/index.html?trace_id=tr-13f411b14cea775414886805dc4578d4&amp;experiment_id=555864553691571308&amp;version=3.3.2\"\n",
       "  />\n",
       "</div>\n"
      ],
      "text/plain": [
       "Trace(trace_id=tr-13f411b14cea775414886805dc4578d4)"
      ]
     },
     "metadata": {},
     "output_type": "display_data"
    }
   ],
   "source": [
    "\n",
    "\n",
    "class StockNewsTool(BaseModel):\n",
    "    \"\"\"Inputs to the Stock News tool.\"\"\"\n",
    "\n",
    "    query: str = Field(\n",
    "        description=\"query to look up in Yahoo Finance News, should be stock symbols\"\n",
    "    )\n",
    "@mlflow.trace\n",
    "def company_news_func(stock_code_1:str):\n",
    "    Company_news_tool = YahooFinanceNewsTool(\n",
    "\n",
    "    name=\"Stock-News Tool\",\n",
    "    description=\"look up the latest stock news of a company in Yahoo finance news using the extracted stock symbol.Extract a concise list of recent headlines,article summaries as well as historical stock data if available.\",\n",
    "    args_schema=StockNewsTool,\n",
    "    metadata={\"use_case\": \"financial_analysis\", \"source\": \"YahooFinance\"},\n",
    "   \n",
    "    return_direct=True,\n",
    "    \n",
    "    top_k= 5,\n",
    "    verbose=True\n",
    "\n",
    ")\n",
    "    return Company_news_tool.run(stock_code_1)\n",
    "\n",
    "\n",
    "\n",
    "\n",
    "# print(tool.run(\"AAPL\"))\n",
    "response=company_news_func(stock_code)\n",
    "\n",
    "pprint.pprint(response)"
   ]
  },
  {
   "cell_type": "code",
   "execution_count": null,
   "id": "887b0a33",
   "metadata": {},
   "outputs": [],
   "source": []
  },
  {
   "cell_type": "markdown",
   "id": "a3f896a3",
   "metadata": {},
   "source": [
    "### Step 4: Analyze Sentiment with Google Gemini-2.0-flash\n",
    "• Pass the news summaries to the Gemini model via LangChain with a prompt that asks \n",
    "the LLM to:\n",
    "o Classify sentiment.\n",
    "o Extract named entities: people, places, other companies.\n",
    "o Provide a structured JSON with the following fields:"
   ]
  },
  {
   "cell_type": "code",
   "execution_count": 10,
   "id": "6fca6a12",
   "metadata": {},
   "outputs": [],
   "source": [
    "from langchain.chains import LLMChain"
   ]
  },
  {
   "cell_type": "code",
   "execution_count": 11,
   "id": "d9f5ba3c",
   "metadata": {},
   "outputs": [],
   "source": [
    "mlflow.gemini.autolog()"
   ]
  },
  {
   "cell_type": "markdown",
   "id": "9e140a84",
   "metadata": {},
   "source": [
    "### Registering the prompt via MLflow"
   ]
  },
  {
   "cell_type": "code",
   "execution_count": 12,
   "id": "e24d1f28",
   "metadata": {},
   "outputs": [
    {
     "name": "stderr",
     "output_type": "stream",
     "text": [
      "2025/09/19 14:47:37 INFO mlflow.store.model_registry.abstract_store: Waiting up to 300 seconds for prompt version to finish creation. Prompt name: SG-SentimentAnalysis-prompt, version 6\n"
     ]
    },
    {
     "name": "stdout",
     "output_type": "stream",
     "text": [
      "Created prompt 'SG-SentimentAnalysis-prompt' (version 6)\n"
     ]
    }
   ],
   "source": [
    "import mlflow\n",
    "\n",
    "# Use double curly braces for variables in the template\n",
    "initial_template = \"\"\"\n",
    "You are a financial analyst. Given the following news about {company} {ticker}, analyze the sentiment and extract structured insights.\n",
    "\n",
    "News:\n",
    "{news}\n",
    "\n",
    "Return a dictionary with the following fields:\n",
    "{{\n",
    " \"company_name\": \"{company}\",\n",
    " \"stock_code\": \"{ticker}\",\n",
    " \"newsdesc\": \"...\",\n",
    " \"sentiment\": \"Positive/Negative/Neutral\",\n",
    " \"people_names\": [],\n",
    " \"places_names\": [],\n",
    " \"other_companies_referred\": [],\n",
    " \"related_industries\": [],\n",
    " \"market_implications\": \"\",\n",
    " \"confidence_score\": 0.0\n",
    "}}\n",
    "\"\"\"\n",
    "\n",
    "\n",
    "# Register a new prompt\n",
    "prompt = mlflow.genai.register_prompt(\n",
    "    name=\"SG-SentimentAnalysis-prompt\",\n",
    "    template=initial_template,\n",
    "    # Optional: Provide a commit message to describe the changes\n",
    "    commit_message=\"Initial commit\",\n",
    "    # Optional: Set tags applies to the prompt (across versions)\n",
    "    tags={\n",
    "        \"author\": \"Soumee Ghosh\",\n",
    "        \"task\": \"Sentiment analysis\",\n",
    "        \"language\": \"en\",\n",
    "        'llm': 'gemini-2.0-flash'\n",
    "    },\n",
    ")\n",
    "\n",
    "# The prompt object contains information about the registered prompt\n",
    "print(f\"Created prompt '{prompt.name}' (version {prompt.version})\")"
   ]
  },
  {
   "cell_type": "markdown",
   "id": "cb57a62a",
   "metadata": {},
   "source": [
    "### Loading the prompt from MLflow"
   ]
  },
  {
   "cell_type": "code",
   "execution_count": 13,
   "id": "7866e102",
   "metadata": {},
   "outputs": [
    {
     "name": "stdout",
     "output_type": "stream",
     "text": [
      "\n",
      "You are a financial analyst. Given the following news about {company} {ticker}, analyze the sentiment and extract structured insights.\n",
      "\n",
      "News:\n",
      "{news}\n",
      "\n",
      "Return a dictionary with the following fields:\n",
      "{{\n",
      " \"company_name\": \"{company}\",\n",
      " \"stock_code\": \"{ticker}\",\n",
      " \"newsdesc\": \"...\",\n",
      " \"sentiment\": \"Positive/Negative/Neutral\",\n",
      " \"people_names\": [],\n",
      " \"places_names\": [],\n",
      " \"other_companies_referred\": [],\n",
      " \"related_industries\": [],\n",
      " \"market_implications\": \"\",\n",
      " \"confidence_score\": 0.0\n",
      "}}\n",
      "\n"
     ]
    }
   ],
   "source": [
    "sentiment_prompt = mlflow.genai.load_prompt(\"prompts:/SG-SentimentAnalysis-prompt/4\")\n",
    "print(sentiment_prompt.template)"
   ]
  },
  {
   "cell_type": "markdown",
   "id": "9072cce3",
   "metadata": {},
   "source": [
    "### Sends the news to an LLM (Google Gemini-2.0-flash) to generate a structured sentiment profile."
   ]
  },
  {
   "cell_type": "markdown",
   "id": "c2643db9",
   "metadata": {},
   "source": [
    "### What are Langchain Chains?\n",
    "\n",
    "\n",
    "Chains are easily reusable components linked together.\n",
    "\n",
    "Chains encode a sequence of calls to components like models, document retrievers, other Chains, etc., and provide a simple interface to this sequence.\n",
    "\n",
    "The Chain interface makes it easy to create apps that are:\n",
    "\n",
    "Stateful: add Memory to any Chain to give it state,\n",
    "\n",
    "Observable: pass Callbacks to a Chain to execute additional functionality, like logging, outside the main sequence of component calls,\n",
    "\n",
    "Composable: combine Chains with other components, including other Chains."
   ]
  },
  {
   "cell_type": "code",
   "execution_count": 14,
   "id": "a848c7b6",
   "metadata": {},
   "outputs": [],
   "source": [
    "\n",
    "@mlflow.trace\n",
    "def run_sentiment_analysis(model, sentiment_prompt, company_name, stock_code, news_text):\n",
    "    \"\"\"\n",
    "    Run sentiment analysis on news related to a company using an LLM chain.\n",
    "\n",
    "    Args:\n",
    "        model: The language model instance (e.g., from OpenAI, HuggingFace, etc.).\n",
    "        sentiment_prompt: A PromptTemplate object or template string for sentiment analysis.\n",
    "        company_name (str): The name of the company.\n",
    "        stock_code (str): The ticker symbol of the company.\n",
    "        news_text (str): The news article or snippet for analysis.\n",
    "\n",
    "    Returns:\n",
    "        str: The model's response (e.g., sentiment analysis result).\n",
    "    \"\"\"\n",
    "    \n",
    "    # Create the PromptTemplate object if it's not already\n",
    "    if isinstance(sentiment_prompt, str):\n",
    "        prompt_1 = PromptTemplate(\n",
    "            input_variables=[\"company\", \"ticker\", \"news\"],\n",
    "            template=sentiment_prompt\n",
    "        )\n",
    "    else:\n",
    "        prompt_1 = sentiment_prompt\n",
    "\n",
    "    # Create the LLM chain and run it\n",
    "    chain = LLMChain(llm=model, prompt=prompt_1)\n",
    "    response_final = chain.run(company=company_name, ticker=stock_code, news=news_text)\n",
    "    response_final=parser_1.invoke(response_final)\n",
    "    \n",
    "    return response_final\n",
    "\n",
    "\n"
   ]
  },
  {
   "cell_type": "code",
   "execution_count": 15,
   "id": "701b3e0e",
   "metadata": {},
   "outputs": [
    {
     "name": "stderr",
     "output_type": "stream",
     "text": [
      "/tmp/ipykernel_4257/4016947636.py:27: LangChainDeprecationWarning: The class `LLMChain` was deprecated in LangChain 0.1.17 and will be removed in 1.0. Use :meth:`~RunnableSequence, e.g., `prompt | llm`` instead.\n",
      "  chain = LLMChain(llm=model, prompt=prompt_1)\n",
      "/tmp/ipykernel_4257/4016947636.py:28: LangChainDeprecationWarning: The method `Chain.run` was deprecated in langchain 0.1.0 and will be removed in 1.0. Use :meth:`~invoke` instead.\n",
      "  response_final = chain.run(company=company_name, ticker=stock_code, news=news_text)\n"
     ]
    },
    {
     "data": {
      "text/html": [
       "\n",
       "<div>\n",
       "  <style scoped>\n",
       "  button {\n",
       "    border: none;\n",
       "    border-radius: 4px;\n",
       "    background-color: rgb(34, 114, 180);\n",
       "    font-family: -apple-system, \"system-ui\", \"Segoe UI\", Roboto, \"Helvetica Neue\", Arial;\n",
       "    font-size: 13px;\n",
       "    color: white;\n",
       "    margin-top: 8px;\n",
       "    margin-bottom: 8px;\n",
       "    padding: 8px 16px;\n",
       "    cursor: pointer;\n",
       "  }\n",
       "  button:hover {\n",
       "    background-color: rgb(66, 153, 224);\n",
       "  }\n",
       "  </style>\n",
       "  <button\n",
       "    onclick=\"\n",
       "        const display = this.nextElementSibling.style.display;\n",
       "        const isCollapsed = display === 'none';\n",
       "        this.nextElementSibling.style.display = isCollapsed ? null : 'none';\n",
       "\n",
       "        const verb = isCollapsed ? 'Collapse' : 'Expand';\n",
       "        this.innerText = `${verb} MLflow Trace`;\n",
       "    \"\n",
       "  >Collapse MLflow Trace</button>\n",
       "  <iframe\n",
       "    id=\"trace-renderer\"\n",
       "    style=\"width: 100%; height: 500px; border: none; resize: vertical;\"\n",
       "    src=\"http://20.75.92.162:5000/static-files/lib/notebook-trace-renderer/index.html?trace_id=tr-dee88c8ce6784bdcb977cc336d101fc3&amp;experiment_id=555864553691571308&amp;version=3.3.2\"\n",
       "  />\n",
       "</div>\n"
      ],
      "text/plain": [
       "Trace(trace_id=tr-dee88c8ce6784bdcb977cc336d101fc3)"
      ]
     },
     "metadata": {},
     "output_type": "display_data"
    }
   ],
   "source": [
    "final_response = run_sentiment_analysis(\n",
    "    model=model,\n",
    "    sentiment_prompt=sentiment_prompt.template,\n",
    "    company_name=company_name,\n",
    "    stock_code=stock_code,\n",
    "    news_text=response\n",
    ")"
   ]
  },
  {
   "cell_type": "code",
   "execution_count": 16,
   "id": "736ee31e",
   "metadata": {},
   "outputs": [
    {
     "data": {
      "text/plain": [
       "{'company_name': 'Tesla Inc',\n",
       " 'stock_code': 'TSLA',\n",
       " 'newsdesc': 'Tesla opens Cybertruck orders in UAE; Jim Cramer notes Elon Musk’s significant stock purchase; Morgan Stanley backs Tesla stock on physical AI opportunity.',\n",
       " 'sentiment': 'Positive',\n",
       " 'people_names': ['Elon Musk', 'Jim Cramer'],\n",
       " 'places_names': ['United Arab Emirates', 'UAE'],\n",
       " 'other_companies_referred': ['Meta', 'Amazon', 'Netflix', 'Alphabet'],\n",
       " 'related_industries': ['Automotive',\n",
       "  'Electric Vehicles',\n",
       "  'Artificial Intelligence'],\n",
       " 'market_implications': \"Positive indicators for Tesla, including expansion into new markets (UAE), CEO's confidence reflected in stock purchase, and analyst support based on AI potential. This suggests potential upward pressure on the stock price.\",\n",
       " 'confidence_score': 0.85}"
      ]
     },
     "execution_count": 16,
     "metadata": {},
     "output_type": "execute_result"
    }
   ],
   "source": [
    "final_response"
   ]
  },
  {
   "cell_type": "markdown",
   "id": "b08d1209",
   "metadata": {},
   "source": [
    "### Bonus Ideas (Optional)\n",
    "• Add entity linking for extracted people and companies (e.g., using Wikipedia or \n",
    "LinkedIn)."
   ]
  },
  {
   "cell_type": "code",
   "execution_count": 19,
   "id": "737df5c4",
   "metadata": {},
   "outputs": [
    {
     "name": "stdout",
     "output_type": "stream",
     "text": [
      "['Elon Musk', 'Jim Cramer']\n"
     ]
    },
    {
     "data": {
      "text/plain": [
       "str"
      ]
     },
     "execution_count": 19,
     "metadata": {},
     "output_type": "execute_result"
    }
   ],
   "source": [
    "entity_name=final_response[\"people_names\"]\n",
    "entity_name=str(entity_name)\n",
    "print(entity_name)\n",
    "type(entity_name)"
   ]
  },
  {
   "cell_type": "code",
   "execution_count": 20,
   "id": "b45017b7",
   "metadata": {},
   "outputs": [
    {
     "data": {
      "text/plain": [
       "'Page: Elon Musk salute controversy\\nSummary: On January 20, 2025, while speaking at a rally celebrating U.S. president Donald Trump\\'s second inauguration, businessman and political figure Elon Musk twice made a salute interpreted by many as a Nazi or a fascist Roman salute.\\nIt was widely condemned as an intentional Nazi salute in Germany, where making such gestures is illegal. The Anti-Defamation League said it was not a Nazi salute, but other Jewish organizations disagreed and condemned the salute. American public opinion was divided on partisan lines as to whether it was a fascist salute. Musk dismissed the accusations of Nazi sympathies, deriding them as \"dirty tricks\" and a \"tired\" attack. Neo-Nazi and white supremacist groups celebrated it as a Nazi salute. Multiple European political parties demanded that Musk be banned from entering their countries.\\n\\n\\n\\nPage: Acquisition of Twitter by Elon Musk\\nSummary: Businessman and U.S. political figure Elon Musk initiated an acquisition of the American social media company Twitter, Inc. on April 14, 2022, and concluded it on October 27, 2022. Musk had begun buying shares of the company in January 2022, becoming its largest shareholder by April with a 9.1 percent ownership stake. Twitter invited Musk to join its board of directors, an offer he initially accepted before declining. On April 14, Musk made an unsolicited offer to purchase the company, to which Twitter\\'s board responded with a \"poison pill\" strategy to resist a hostile takeover before unanimously accepting Musk\\'s buyout offer of $44 billion on April 25. Musk stated that he planned to introduce new features to the platform, make its algorithms open-source, combat spambot accounts, and promote free speech, framing the acquisition as the cornerstone of X, an \"everything app\".\\nIn July, Musk announced his intention to terminate the agreement, asserting that Twitter had breached their agreement by refusing to crack down on spambot accounts. The company filed a lawsuit against Musk in the Delaware Court of Chancery shortly thereafter, with a trial scheduled for the week of October 17. Weeks before the trial was set to begin, Musk reversed course, announcing that he would move forward with the acquisition. The deal was closed on October 28, with Musk immediately becoming Twitter\\'s new owner and CEO. Twitter was taken private and merged into a new parent company named X Corp. Musk promptly fired several top executives, including previous CEO Parag Agrawal. Musk has since proposed several reforms to Twitter and laid off half of the company\\'s workforce. Hundreds of employees then resigned from the company after Musk issued an ultimatum demanding they commit to \"extremely hardcore\" work. Linda Yaccarino was appointed CEO of X Corp. In July 2023, the Twitter service was rebranded as X.\\nReactions to the buyout were mixed, with praise for Musk\\'s planned reforms and vision for the company, particularly his calls for greater free speech, but criticism over fears of a potential rise in misinformation and disinformation, harassment, and hate speech on the platform. Within the United States, conservatives have largely supported the acquisition, while many liberals and former Twitter employees have voiced concerns about Musk\\'s intentions. Since becoming owner, Musk has faced backlash for his handling of the company and account suspensions, including the December 2022 suspensions of ten journalists.\\n\\n'"
      ]
     },
     "execution_count": 20,
     "metadata": {},
     "output_type": "execute_result"
    },
    {
     "data": {
      "text/html": [
       "\n",
       "<div>\n",
       "  <style scoped>\n",
       "  button {\n",
       "    border: none;\n",
       "    border-radius: 4px;\n",
       "    background-color: rgb(34, 114, 180);\n",
       "    font-family: -apple-system, \"system-ui\", \"Segoe UI\", Roboto, \"Helvetica Neue\", Arial;\n",
       "    font-size: 13px;\n",
       "    color: white;\n",
       "    margin-top: 8px;\n",
       "    margin-bottom: 8px;\n",
       "    padding: 8px 16px;\n",
       "    cursor: pointer;\n",
       "  }\n",
       "  button:hover {\n",
       "    background-color: rgb(66, 153, 224);\n",
       "  }\n",
       "  </style>\n",
       "  <button\n",
       "    onclick=\"\n",
       "        const display = this.nextElementSibling.style.display;\n",
       "        const isCollapsed = display === 'none';\n",
       "        this.nextElementSibling.style.display = isCollapsed ? null : 'none';\n",
       "\n",
       "        const verb = isCollapsed ? 'Collapse' : 'Expand';\n",
       "        this.innerText = `${verb} MLflow Trace`;\n",
       "    \"\n",
       "  >Collapse MLflow Trace</button>\n",
       "  <iframe\n",
       "    id=\"trace-renderer\"\n",
       "    style=\"width: 100%; height: 500px; border: none; resize: vertical;\"\n",
       "    src=\"http://20.75.92.162:5000/static-files/lib/notebook-trace-renderer/index.html?trace_id=tr-3249ae06a2b85877e6cef16f3f9a5eb9&amp;experiment_id=555864553691571308&amp;version=3.3.2\"\n",
       "  />\n",
       "</div>\n"
      ],
      "text/plain": [
       "Trace(trace_id=tr-3249ae06a2b85877e6cef16f3f9a5eb9)"
      ]
     },
     "metadata": {},
     "output_type": "display_data"
    }
   ],
   "source": [
    "\n",
    "\n",
    "\n",
    "\n",
    "\n",
    "class WikiInputs(BaseModel):\n",
    "    \"\"\"Inputs to the wikipedia tool.\"\"\"\n",
    "\n",
    "    query: Any= Field(\n",
    "        description=\"query to look up in Wikipedia, should be a list\"\n",
    "    )\n",
    "\n",
    "@mlflow.trace\n",
    "def wiki_tool_func(entity_name_1:str):\n",
    "    wiki_tool = WikipediaQueryRun(\n",
    "    name=\"wiki-tool\",\n",
    "    description=\"Look up the latest information about the entity_name specified in the wikipedia and return a concise 2 line response highlighting financial news related to the entity\",\n",
    "    args_schema=WikiInputs,\n",
    "    api_wrapper=WikipediaAPIWrapper(top_k_results=2),\n",
    "\n",
    "    \n",
    "    \n",
    "    return_direct=True,\n",
    "    metadata={\"use_case\": \"entity_analysis\", \"source\": \"Wikipedia\"}\n",
    ")\n",
    "    return wiki_tool.run(entity_name)\n",
    "\n",
    "\n",
    "wiki_tool_func(entity_name)"
   ]
  },
  {
   "cell_type": "code",
   "execution_count": 21,
   "id": "daa84322",
   "metadata": {},
   "outputs": [],
   "source": [
    "from langchain.tools.tavily_search import TavilySearchResults"
   ]
  },
  {
   "cell_type": "code",
   "execution_count": 22,
   "id": "9ae2ec20",
   "metadata": {},
   "outputs": [
    {
     "name": "stderr",
     "output_type": "stream",
     "text": [
      "/tmp/ipykernel_4257/3361110606.py:11: LangChainDeprecationWarning: The class `TavilySearchResults` was deprecated in LangChain 0.3.25 and will be removed in 1.0. An updated version of the class exists in the :class:`~langchain-tavily package and should be used instead. To use it run `pip install -U :class:`~langchain-tavily` and import as `from :class:`~langchain_tavily import TavilySearch``.\n",
      "  linkedin_tool = TavilySearchResults(max_results=3,\n"
     ]
    },
    {
     "data": {
      "text/plain": [
       "[{'title': \"What happened to Jim Cramer's love affair with Tesla and Elon Musk?\",\n",
       "  'url': 'https://www.teslarati.com/tesla-jim-cramer-love-affair-elon-musk/',\n",
       "  'content': \"“With Musk’s (Tesla stock) purchase, combined with the upward momentum for delivery expectations and robotaxi rollout, we are becoming more bullish.”\\n\\nImage 45\\n\\nPublished\\n\\n4 days ago\\non\\n\\nSeptember 15, 2025\\n\\nBy\\n\\nJoey Klender\\n\\nTesla CEO Elon Musk purchased roughly $1 billion in Tesla shares on Friday, and analysts are now breaking down the move as the stock is headed upward. [...] ------------------------------------------------------------------ [...] Published Time: 2021-09-29T14:59:47+00:00\\n\\nWhat happened to Jim Cramer's love affair with Tesla and Elon Musk?\\n\\nImage 1: TESLARATI\\n\\n   NEWS\\n   Tesla\\n   SPACEX\\n   Elon Musk\\n   Shop\\n\\nConnect with us\\n    shares snatched up by ARK after Battery Day: “It’s going to be hard to catch up”\",\n",
       "  'score': 0.586926,\n",
       "  'raw_content': 'Published Time: 2021-09-29T14:59:47+00:00\\n\\nWhat happened to Jim Cramer\\'s love affair with Tesla and Elon Musk?\\n\\n===============\\n\\n[![Image 1: TESLARATI](https://www.teslarati.com/wp-content/uploads/2025/03/Teslarati-Logo-white-transparent-170.png)](https://www.teslarati.com/)\\n\\n*   [NEWS](https://www.teslarati.com/category/news/)\\n*   [Tesla](https://www.teslarati.com/category/tesla/)\\n*   [SPACEX](https://www.teslarati.com/category/spacex/)\\n*   [Elon Musk](https://www.teslarati.com/category/elon-musk/)\\n*   [Shop](https://shop.teslarati.com/)\\n\\nConnect with us\\n*   [](https://www.facebook.com/Teslarati/)\\n*   [](https://twitter.com/teslarati)\\n*   [](https://www.pinterest.com/teslarati/)\\n*   [](https://www.instagram.com/teslarati/)\\n*   [](https://www.tiktok.com/@teslarati)\\n*   [](https://www.youtube.com/channel/UCgY_B6vi2610bBkXFwCxcTg)\\n*   [](https://www.linkedin.com/company/teslaratimedia)\\n\\n[![Image 2: TESLARATI](https://www.teslarati.com/wp-content/uploads/2025/03/Teslarati-Logo-white-transparent-170.png)](https://www.teslarati.com/)\\nTESLARATI\\n---------\\n\\n#### What happened to Jim Cramer’s love affair with Tesla and Elon Musk?\\n\\n*   [NEWS](https://www.teslarati.com/category/news/)\\n\\n    *   [![Image 3](https://www.teslarati.com/wp-content/uploads/2025/09/tesla-model-y-interior-400x240.jpg) Tesla Full Self-Driving impressions after three weeks of ownership](https://www.teslarati.com/tesla-full-self-driving-impressions-after-three-weeks-of-ownership/)\\n    *   [![Image 4](https://www.teslarati.com/wp-content/uploads/2025/04/tesla-cybertruck-long-range-rwd-400x240.jpeg) Tesla gets price target increase on Wall Street, but it’s a head-scratcher](https://www.teslarati.com/tesla-tsla-price-target-increase-wall-street-head-scratcher/)\\n    *   [![Image 5: Tesla Model S self-presenting door handle](https://www.teslarati.com/wp-content/uploads/2020/05/tesla-model-s-door-handle-400x240.jpg) Tesla addresses door handle complaints with simple engineering fix](https://www.teslarati.com/tesla-plans-adjust-heavily-scrutinized-car-part-simple-engineering/)\\n    *   [![Image 6](https://www.teslarati.com/wp-content/uploads/2025/09/optimus-v25-400x240.jpeg) Elon Musk calls out viral claim of 10,000 Tesla Optimus deal: “Fake”](https://www.teslarati.com/elon-musk-calls-out-viral-claim-10k-tesla-optimus-deal/)\\n    *   [![Image 7](https://www.teslarati.com/wp-content/uploads/2025/08/starship-boosters-elon-musk-400x240.jpeg) Elon Musk: Self-sustaining city on Mars is plausible in 25-30 years](https://www.teslarati.com/elon-musk-self-sustaining-mars-city-plausible-25-30-years/)\\n\\n*   [Tesla](https://www.teslarati.com/category/tesla/)\\n\\n    *   [![Image 8](https://www.teslarati.com/wp-content/uploads/2025/09/tesla-model-y-interior-400x240.jpg) Tesla Full Self-Driving impressions after three weeks of ownership](https://www.teslarati.com/tesla-full-self-driving-impressions-after-three-weeks-of-ownership/)\\n    *   [![Image 9](https://www.teslarati.com/wp-content/uploads/2025/04/tesla-cybertruck-long-range-rwd-400x240.jpeg) Tesla gets price target increase on Wall Street, but it’s a head-scratcher](https://www.teslarati.com/tesla-tsla-price-target-increase-wall-street-head-scratcher/)\\n    *   [![Image 10: Tesla Model S self-presenting door handle](https://www.teslarati.com/wp-content/uploads/2020/05/tesla-model-s-door-handle-400x240.jpg) Tesla addresses door handle complaints with simple engineering fix](https://www.teslarati.com/tesla-plans-adjust-heavily-scrutinized-car-part-simple-engineering/)\\n    *   [![Image 11](https://www.teslarati.com/wp-content/uploads/2025/08/tesla-model-y-100k-giga-berlin-400x240.jpeg) Tesla Model Y may gain an extra 90 miles of range with Panasonic’s next-gen battery](https://www.teslarati.com/tesla-model-y-extra-90-miles-range-panasonic-next-gen-battery/)\\n    *   [![Image 12](https://www.teslarati.com/wp-content/uploads/2024/08/tesla-lineup-supercharger-400x240.jpg) Tesla called ‘biggest meme stock we’ve ever seen’ by Yale associate dean](https://www.teslarati.com/tesla-tsla-biggest-meme-stock-weve-ever-seen-yale-associate-dean/)\\n\\n*   [SPACEX](https://www.teslarati.com/category/spacex/)\\n\\n    *   [![Image 13](https://www.teslarati.com/wp-content/uploads/2025/08/starship-boosters-elon-musk-400x240.jpeg) Elon Musk: Self-sustaining city on Mars is plausible in 25-30 years](https://www.teslarati.com/elon-musk-self-sustaining-mars-city-plausible-25-30-years/)\\n    *   [![Image 14](https://www.teslarati.com/wp-content/uploads/2025/09/starlink-direct-to-cell-v2-400x240.jpg) SpaceX is partnering with chipmakers to enable Starlink satellite-to-cell service](https://www.teslarati.com/spacex-partnering-chipmakers-enable-starlink-satellite-to-cell-service/)\\n    *   [![Image 15](https://www.teslarati.com/wp-content/uploads/2024/11/spacex-starship-test-flight-six-no-catch-e1732667933275-400x240.jpg) U.S. Judge dismisses lawsuit against SpaceX Starship Boca Chica launch site](https://www.teslarati.com/u-s-judge-dismisses-lawsuit-against-spacex-starship-boca-chica-launch-site/)\\n    *   [![Image 16](https://www.teslarati.com/wp-content/uploads/2024/12/starlink-bastrop-facility-400x240.jpg) SpaceX to expand Central Texas facility with $8M Bastrop project](https://www.teslarati.com/spacex-expands-central-texas-facility-8m-bastrop-project/)\\n    *   [![Image 17](https://www.teslarati.com/wp-content/uploads/2025/09/starlink-direct-to-cell-v2-400x240.jpg) Starlink’s EchoStar spectrum deal could bring 5G coverage anywhere](https://www.teslarati.com/starlinks-echostar-spectrum-deal-brings-5g-coverage-anywhere/)\\n\\n*   [Elon Musk](https://www.teslarati.com/category/elon-musk/)\\n\\n    *   [![Image 18: Tesla Model S self-presenting door handle](https://www.teslarati.com/wp-content/uploads/2020/05/tesla-model-s-door-handle-400x240.jpg) Tesla addresses door handle complaints with simple engineering fix](https://www.teslarati.com/tesla-plans-adjust-heavily-scrutinized-car-part-simple-engineering/)\\n    *   [![Image 19](https://www.teslarati.com/wp-content/uploads/2025/08/starship-boosters-elon-musk-400x240.jpeg) Elon Musk: Self-sustaining city on Mars is plausible in 25-30 years](https://www.teslarati.com/elon-musk-self-sustaining-mars-city-plausible-25-30-years/)\\n    *   [![Image 20](https://www.teslarati.com/wp-content/uploads/2024/08/tesla-lineup-supercharger-400x240.jpg) Tesla called ‘biggest meme stock we’ve ever seen’ by Yale associate dean](https://www.teslarati.com/tesla-tsla-biggest-meme-stock-weve-ever-seen-yale-associate-dean/)\\n    *   [![Image 21](https://www.teslarati.com/wp-content/uploads/2017/12/tesla-roadster-design-team-franz-400x240.jpg) Elon Musk teases the capabilities of the Tesla Roadster once again](https://www.teslarati.com/elon-musk-teases-capabilities-tesla-roadster-once-again/)\\n    *   [![Image 22](https://www.teslarati.com/wp-content/uploads/2024/02/20_05_2022_-_Conectividade_e_Protec%CC%A7a%CC%83o_da_Amazo%CC%82nia_com_Elon_Musk_52096167889-1-400x240.jpg) Elon Musk reiterates shocking xAI detail, and hints at an upcoming monster](https://www.teslarati.com/elon-musk-shares-shocking-xai-detail-hints-at-upcoming-monster/)\\n\\n*   [Shop](https://shop.teslarati.com/)\\n\\n![Image 23](https://www.teslarati.com/wp-content/uploads/2020/01/tsla-jim-cramer-cnbc.jpg)![Image 24](https://www.teslarati.com/wp-content/uploads/2020/01/tsla-jim-cramer-cnbc-560x600.jpg)\\n\\n### [Investor\\'s Corner](https://www.teslarati.com/category/news/investors-corner/)\\n\\nWhat happened to Jim Cramer’s love affair with Tesla and Elon Musk?\\n===================================================================\\n\\nCredit: YouTube/CNBC Television\\n\\n[](https://www.teslarati.com/tesla-jim-cramer-love-affair-elon-musk/# \"Share on Facebook\")[](https://www.teslarati.com/tesla-jim-cramer-love-affair-elon-musk/# \"Tweet This Post\")[](https://www.teslarati.com/tesla-jim-cramer-love-affair-elon-musk/# \"Pin This Post\")[](mailto:?subject=What%20happened%20to%20Jim%20Cramer%E2%80%99s%20love%20affair%20with%20Tesla%20and%20Elon%20Musk?&BODY=I%20found%20this%20article%20interesting%20and%20thought%20of%20sharing%20it%20with%20you.%20Check%20it%20out:%20https://www.teslarati.com/tesla-jim-cramer-love-affair-elon-musk/)\\n\\n[* Share](https://www.teslarati.com/tesla-jim-cramer-love-affair-elon-musk/# \"Share on Facebook\")[* Tweet](https://www.teslarati.com/tesla-jim-cramer-love-affair-elon-musk/# \"Tweet This Post\")[](https://www.teslarati.com/tesla-jim-cramer-love-affair-elon-musk/# \"Pin This Post\")[](whatsapp://send?text=What%20happened%20to%20Jim%20Cramer%E2%80%99s%20love%20affair%20with%20Tesla%20and%20Elon%20Musk?%20https://www.teslarati.com/tesla-jim-cramer-love-affair-elon-musk/)\\n\\n[](whatsapp://send?text=What%20happened%20to%20Jim%20Cramer%E2%80%99s%20love%20affair%20with%20Tesla%20and%20Elon%20Musk?%20https://www.teslarati.com/tesla-jim-cramer-love-affair-elon-musk/)[](mailto:?subject=What%20happened%20to%20Jim%20Cramer%E2%80%99s%20love%20affair%20with%20Tesla%20and%20Elon%20Musk?&BODY=I%20found%20this%20article%20interesting%20and%20thought%20of%20sharing%20it%20with%20you.%20Check%20it%20out:%20https://www.teslarati.com/tesla-jim-cramer-love-affair-elon-musk/)[](https://www.teslarati.com/tesla-jim-cramer-love-affair-elon-musk/#disqus_thread)\\n\\n![Image 25](https://secure.gravatar.com/avatar/ffc6e144b62444bbcd0ba1b71be05ade?s=46&r=pg)\\n\\nPublished\\n\\n4 years ago\\non\\n\\nSeptember 29, 2021\\n\\nBy\\n\\n[Joey Klender](https://www.teslarati.com/author/joey-klender/ \"Posts by Joey Klender\")[](https://twitter.com/KlenderJoey)\\n\\nJim Cramer’s love affair with Tesla and Elon Musk appears to be over, based on recent comments the long-time _Mad Money_ host has made in the past few months. Cramer flipped from bear to bull on Tesla stock several years ago following a drive in his daughter’s Tesla, essentially becoming one of the company’s most outspoken supporters. However, Cramer has moved on from his bullish Tesla outlook.\\n\\nRecently, Cramer’s overwhelming support for Tesla started to crumble after he stated that the Cybertruck would be Musk’s “[first disaster](https://www.teslarati.com/tesla-cybertruck-elon-musks-first-disaster-jim-cramer-video/).” Instead, Cramer told car buyers to look at the all-electric F-150 Lightning from Ford, the automaker’s battery-powered version of the United States’ best-selling pickup truck. The F-150 Lightning is set to begin deliveries next Spring.\\n\\nWhile purchasing a vehicle based on aesthetics is purely up to the consumer, there is no evidence to suggest that the Cybertruck will be a disaster at all, especially in terms of interest. In fact, the Cybertruck has already [accumulated over 1.2 million pre-orders](https://www.teslarati.com/tesla-cybertruck-pre-orders-reservations-1-2-million-units/). Even if 50% of those orders are unfulfilled based on pure speculation, that would still make the Cybertruck one of the most popular vehicles in the country. The most popular vehicle in the United States is the Ford F-Series, which sold 787,372 units in 2020, according to _[GoodCarBadCar](https://www.goodcarbadcar.net/ford-f-series-sales-figures/)._\\n\\nDiscover more\\n\\nSolar-powered gadgets and devices\\n\\nSpace-themed clothing\\n\\nModel X\\n\\nTesla vehicles\\n\\nSolar-powered EV chargers\\n\\nElon Musk merchandise\\n\\nTesla Robotaxi\\n\\nSpaceX facility expansion\\n\\nElectric Vehicle\\n\\nModel S\\n\\nEarlier today, Cramer made another bold statement regarding who he would rather put his trust in between Musk and Ford CEO Jim Farley. His choice would certainly not appease Tesla fans by any measure, as Cramer stated he would much rather have Farley than Musk.\\n\\nJim Farley is undoubtedly a credible CEO, with a proven record of success thus far. He has supported Ford’s transition to electrification, and the company’s stock price has soared since he assumed the role of CEO in October 2020. While Farley has been a supporter and crutch for Ford’s transition away from combustion engines, he is not as innovative or revolutionary as Musk, and there isn’t much of a comparison based on what the two men have done in their careers as CEOs.\\n\\nAdvertisement\\n\\nDiscover more\\n\\nSpaceX rockets\\n\\nElectric vehicle accessories\\n\\nRobotaxi ride experiences\\n\\nTesla-themed art and decor\\n\\nTesla Semis\\n\\nPortable solar panels\\n\\nElon Musk merchandise\\n\\nSolar-powered EV chargers\\n\\nSpace-themed clothing\\n\\nSpaceX Starship\\n\\nIn a matter of months, Cramer has gone from perhaps the biggest Elon fan and supporter to relatively no trust or enthusiasm regarding Tesla or its products. One can only ask: What’s the reason for this?\\n\\nThe flip on Cramer’s view was drastic and uncharacteristic of someone who has supported Tesla and been a very vocal bull for several years. Here are some of the things that Cramer has said about Tesla as recently as May 2021:\\n\\n**May 2021: Elon Musk states Tesla will halt Bitcoin transactions due to environmental concerns**\\n\\n“I don’t know why the hell he said it. I don’t know whether there was another objection besides the environmental, because the environmental [reason] doesn’t hold water. It’s been this way the whole time. But he chose to do this, and I don’t get it. But, he does a lot of things that I can’t fathom that turn out to be brilliant.”\\n\\n> [Tesla’s Bitcoin reversal confuses Jim Cramer, but he’s not giving up on Elon Musk](https://www.teslarati.com/tesla-bitcoin-jim-cramer-elon-musk-video/)\\n\\nAdvertisement\\n\\nDiscover more\\n\\nElon Musk merchandise\\n\\nTesla shop\\n\\nStarship model kits\\n\\nSelf-driving car upgrades\\n\\nSpace-themed educational toys\\n\\nModel S\\n\\nStarship flight simulation experiences\\n\\nSpaceX rockets\\n\\nAI-powered home automation systems\\n\\nTeslarati merchandise\\n\\n**January 2021: Musk’s contribution to Tesla’s valuation**\\n\\n“If you don’t have any, you can still buy some. Don’t buy a lot, but you can certainly still buy some. The roadmap is clear, Elon, every time he talks, it’s going to be good, and I just think we all have to accept the fact that President Biden will do anything to make the EV to be the central form of transport.”\\n\\n“Every time Elon opens a new market, like he is about to do with his factory in Berlin, the stock will go up again. It’s really a question of whether you believe in iterations.”\\n\\n> [Tesla still a ‘Buy’ to Jim Cramer: ‘Everytime [Elon] talks, it’s going to be good’](https://www.teslarati.com/tesla-tsla-buy-jim-cramer-elon-musk-talks-video/)\\n\\n**September 2020: Battery Day critics just didn’t get it**\\n\\nAdvertisement\\n\\n“They’re [critics] just bummed that the things they hyped didn’t happen.”\\n\\n“Tesla rolls out a plan to create an electric car for the masses and greeted with a yawn because Musk didn’t roll out a magic battery…That’s what happens when you let expectations get out of control.”\\n\\n> [Tesla (TSLA) shares snatched up by ARK after Battery Day: “It’s going to be hard to catch up”](https://www.teslarati.com/tesla-tsla-ark-battery-day-shares-purchased/)\\n\\nWhile many critics of Cramer’s simply claim he has changed his $TSLA position, or that he is supporting ICE-based automakers, there is no evidence of this yet. However, Cramer’s sudden flip on Tesla is interesting, and only he knows why he has chosen to openly ditch the efforts of the electric car company that is undoubtedly leading the charge.\\n\\nAdvertisement\\n\\nRelated Topics:[Elon Musk](https://www.teslarati.com/tag/elon-musk/)[Featured](https://www.teslarati.com/tag/featured/)[Ford](https://www.teslarati.com/tag/ford/)[Jim Cramer](https://www.teslarati.com/tag/jim-cramer/)[Tesla](https://www.teslarati.com/tag/tesla/)[Tesla Cybertruck](https://www.teslarati.com/tag/tesla-cybertruck/)\\n\\n[Up Next Rolls-Royce eras in an all-electric plan by 2030, unveils Spectre EV](https://www.teslarati.com/rolls-royce-spectre-all-ev-by-2030/)\\n\\n[Don\\'t Miss Tesla’s Elon Musk admits that FSD Beta should probably not have NDAs](https://www.teslarati.com/tesla-elon-musk-fsd-beta-nda-canceled/)\\n\\n![Image 26](https://secure.gravatar.com/avatar/ffc6e144b62444bbcd0ba1b71be05ade?s=60&r=pg)\\n\\n[Joey Klender](https://www.teslarati.com/author/joey-klender/ \"Posts by Joey Klender\")\\n\\n[](https://twitter.com/KlenderJoey)[](https://www.instagram.com/klendergolf/)[](https://www.teslarati.com/tesla-jim-cramer-love-affair-elon-musk/linkedin.com/jklenderpsu)\\n\\nJoey has been a journalist covering electric mobility at TESLARATI since August 2019. In his spare time, Joey is playing golf, watching MMA, or cheering on any of his favorite sports teams, including the Baltimore Ravens and Orioles, Miami Heat, Washington Capitals, and Penn State Nittany Lions. You can get in touch with joey at [joey@teslarati.com](mailto:joey@teslarati.com). He is also on X [@KlenderJoey](https://x.com/klenderjoey). If you\\'re looking for great Tesla accessories, check out [shop.teslarati.com](https://shop.teslarati.com/)\\n\\n![Image 27: TESLARATI](https://www.teslarati.com/wp-content/uploads/2025/03/Teslarati-Logo-white-transparent-170.png)\\n\\nAdvertisement[![Image 28](https://cdn.shopify.com/s/files/1/0008/6058/6043/files/3dmaxpider-tesla-floor-mats.jpg?v=1746725514)](https://shop.teslarati.com/)\\n\\n#### You may like\\n\\n[* ![Image 29](https://www.teslarati.com/wp-content/uploads/2025/09/tesla-model-y-interior-400x240.jpg)![Image 30](https://www.teslarati.com/wp-content/uploads/2025/09/tesla-model-y-interior-80x80.jpg) Tesla Full Self-Driving impressions after three weeks of ownership](https://www.teslarati.com/tesla-full-self-driving-impressions-after-three-weeks-of-ownership/)[* ![Image 31](https://www.teslarati.com/wp-content/uploads/2025/04/tesla-cybertruck-long-range-rwd-400x240.jpeg)![Image 32](https://www.teslarati.com/wp-content/uploads/2025/04/tesla-cybertruck-long-range-rwd-80x80.jpeg) Tesla gets price target increase on Wall Street, but it’s a head-scratcher](https://www.teslarati.com/tesla-tsla-price-target-increase-wall-street-head-scratcher/)[* ![Image 33: Tesla Model S self-presenting door handle](https://www.teslarati.com/wp-content/uploads/2020/05/tesla-model-s-door-handle-400x240.jpg)![Image 34: Tesla Model S self-presenting door handle](https://www.teslarati.com/wp-content/uploads/2020/05/tesla-model-s-door-handle-80x80.jpg) Tesla addresses door handle complaints with simple engineering fix](https://www.teslarati.com/tesla-plans-adjust-heavily-scrutinized-car-part-simple-engineering/)[* ![Image 35](https://www.teslarati.com/wp-content/uploads/2025/09/optimus-v25-400x240.jpeg)![Image 36](https://www.teslarati.com/wp-content/uploads/2025/09/optimus-v25-80x80.jpeg) Elon Musk calls out viral claim of 10,000 Tesla Optimus deal: “Fake”](https://www.teslarati.com/elon-musk-calls-out-viral-claim-10k-tesla-optimus-deal/)[* ![Image 37](https://www.teslarati.com/wp-content/uploads/2025/08/starship-boosters-elon-musk-400x240.jpeg)![Image 38](https://www.teslarati.com/wp-content/uploads/2025/08/starship-boosters-elon-musk-80x80.jpeg) Elon Musk: Self-sustaining city on Mars is plausible in 25-30 years](https://www.teslarati.com/elon-musk-self-sustaining-mars-city-plausible-25-30-years/)[* ![Image 39](https://www.teslarati.com/wp-content/uploads/2025/08/tesla-model-y-100k-giga-berlin-400x240.jpeg)![Image 40](https://www.teslarati.com/wp-content/uploads/2025/08/tesla-model-y-100k-giga-berlin-80x80.jpeg) Tesla Model Y may gain an extra 90 miles of range with Panasonic’s next-gen battery](https://www.teslarati.com/tesla-model-y-extra-90-miles-range-panasonic-next-gen-battery/)\\n\\nComments\\n\\n### [Elon Musk](https://www.teslarati.com/category/elon-musk/)\\n\\nTesla called ‘biggest meme stock we’ve ever seen’ by Yale associate dean\\n========================================================================\\n\\n![Image 41](https://secure.gravatar.com/avatar/ffc6e144b62444bbcd0ba1b71be05ade?s=46&r=pg)\\n\\nPublished\\n\\n1 day ago\\non\\n\\nSeptember 17, 2025\\n\\nBy\\n\\n[Joey Klender](https://www.teslarati.com/author/joey-klender/ \"Posts by Joey Klender\")[](https://twitter.com/KlenderJoey)\\n\\n![Image 42](https://www.teslarati.com/wp-content/uploads/2024/08/tesla-lineup-supercharger-scaled.jpg)\\n\\nCredit: Tesla\\n\\nTesla ([NASDAQ: TSLA](https://www.tradingview.com/symbols/NASDAQ-TSLA/)) is being called “the biggest meme stock we’ve ever seen” by Yale School of Management Senior Associate Dean Jeff Sonnenfeld, who made the comments in a recent interview with _CNBC._\\n\\nSonnenfeld’s comments echo those of many of the company’s skeptics, who argue that its price-to-earnings ratio is far too high when compared to other companies also in the tech industry. Tesla is often compared to companies like Apple, Nvidia, and Microsoft when these types of discussions come up.\\n\\nFundamentally, yes, Tesla does trade at a P/E level that is significantly above that of any comparable company.\\n\\nHowever, it is worth mentioning that [Tesla is not traded like a typical company, either](https://www.teslarati.com/tesla-tsla-bear-turns-bullish-two-reasons-stock-continues-boost/).\\n\\nHere’s what Sonnenfeld said regarding Tesla:\\n\\nAdvertisement\\n\\n_“This is the biggest meme stock we’ve ever seen. Even at its peak, Amazon was nowhere near this level. The PE on this, well above 200, is just crazy. When you’ve got stocks like Nvidia, the price-earnings ratio is around 25 or 30, and Apple is maybe 35 or 36, Microsoft around the same. I mean, this is way out of line to be at a 220 PE. It’s crazy, and they’ve, I think, put a little too much emphasis on the magic wand of Musk.”_\\n\\nMany analysts have admitted in the past that they believe Tesla is an untraditional stock in the sense that many analysts trade it based on narrative and not fundamentals. Ryan Brinkman of J.P. Morgan once said:\\n\\n_“Tesla shares continue to strike us as having become completely divorced from the fundamentals.”_\\n\\nDan Nathan, another notorious skeptic of Tesla shares, [recently turned bullish on the stock because of “technicals and sentiment.”](https://www.teslarati.com/tesla-tsla-bear-turns-bullish-two-reasons-stock-continues-boost/) He said just last week:\\n\\n_“I think from a trading perspective, it looks very interesting.”_\\n\\nAdvertisement\\n\\nNathan said Tesla shares show signs of strength moving forward, including holding its 200-day moving average and holding against current resistance levels.\\n\\nSonnenfeld’s synopsis of Tesla shares points out that there might be “a little too much emphasis on the magic wand of Musk.”\\n\\n> [Elon Musk just bought $1 billion in Tesla stock, his biggest purchase ever](https://www.teslarati.com/elon-musk-buys-1-billion-tesla-tsla-stock-biggest-purchase-ever/)\\n\\nThis could refer to different things: perhaps his recent [$1 billion stock buy](https://www.teslarati.com/elon-musk-buys-1-billion-tesla-tsla-stock-biggest-purchase-ever/), which sent the stock skyrocketing, or the fact that many Tesla investors are fans and owners who do not buy and sell on numbers, but rather on news that Musk might report himself.\\n\\nTesla is trading around $423.76 at the time of publication, as of 3:25 p.m. on the East Coast.\\n\\nAdvertisement\\n\\n[Continue Reading](https://www.teslarati.com/tesla-tsla-biggest-meme-stock-weve-ever-seen-yale-associate-dean/)\\n\\n### [Elon Musk](https://www.teslarati.com/category/elon-musk/)\\n\\nElon Musk affirms Tesla commitment and grueling work schedule: “Daddy is very much home”\\n========================================================================================\\n\\nThe remarks came as Tesla shares crossed the $400 mark on the stock market.\\n\\n![Image 43](https://www.teslarati.com/wp-content/uploads/2017/12/simon-alvarez-avatar-46x46.jpg)\\n\\nPublished\\n\\n3 days ago\\non\\n\\nSeptember 16, 2025\\n\\nBy\\n\\n[Simon Alvarez](https://www.teslarati.com/author/simon-alvarez/ \"Posts by Simon Alvarez\")[](https://twitter.com/ResidentSponge)\\n\\n![Image 44](https://www.teslarati.com/wp-content/uploads/2025/08/elon-musk-wartime-ceo.jpeg)\\n\\nTesla CEO Elon Musk reiterated his commitment to the electric vehicle maker and its future projects this week, responding to speculation following his $1 billion purchase of TSLA stock.\\n\\nThe remarks came as Tesla shares crossed the $400 mark on the stock market, extending a rally fueled in part by Musk’s TSLA purchase.\\n\\n**Elon Musk’s nonstop work schedule**\\n-------------------------------------\\n\\nAmidst the reaction of TSLA stock to Musk’s [$1 billion investment](https://www.teslarati.com/tesla-tsla-analyst-says-musk-stock-buy-should-send-signal-investors/), Tesla owners such as [@greggertruck](https://x.com/greggertruck/status/1967595205852606837) noted that “Daddy’s home.” Musk replied, stating that “Daddy is very much home.” He then shared details of a packed weekend of work, which was definitely grueling but completely within character for a “wartime CEO.”\\n\\nMusk did note, however, that he had lunch with his kids during the weekend despite his extremely busy schedule.\\n\\n“Daddy is very much home. Am burning the midnight oil with Optimus engineering on Friday night, then redeye overnight to Austin arriving 5am, wake up to have lunch with my kids and then spend all Saturday afternoon in deep technical reviews for the Tesla AI5 chip design.\\n\\nAdvertisement\\n\\n“Fly to Colossus II on Monday to walk the whole datacenter floor, review transformers and power production (excellent progress), depart midnight. Then up to 12 hours of back-to-back meetings across all Tesla departments, but with a particular focus on AI/Autopilot, Optimus production plans, and vehicle production/delivery,” Musk [wrote in his post](https://x.com/elonmusk/status/1967813970783604818).\\n\\n> Daddy is very much home. \\n> \\n> \\n> \\n> Am burning the midnight oil with Optimus engineering on Friday night, then redeye overnight to Austin arriving 5am, wake up to have lunch with my kids and then spend all Saturday afternoon in deep technical reviews for the Tesla AI5 chip design. \\n> \\n> \\n> \\n> Fly…— Elon Musk (@elonmusk) [September 16, 2025](https://twitter.com/elonmusk/status/1967813970783604818?ref_src=twsrc%5Etfw)\\n\\n**Wartime CEO**\\n---------------\\n\\nWedbush analyst [Dan Ives](https://www.benzinga.com/markets/tech/25/09/47685152/daddy-is-very-much-home-says-elon-musk-reiterating-commitment-to-tesla-amid-1-billion-tsla-stock-buy) described Musk as operating in “wartime CEO mode,” highlighting autonomous driving and AI as a trillion-dollar market opportunity for Tesla. Musk reiterated this point late last month as well, when he outlined the [several projects](https://www.teslarati.com/elon-musk-confirms-still-wartime-ceo-mode/) he is juggling among his numerous companies. At the time, Musk stated that he was busy with Starship 10, Grok 5, and Tesla V14. This was despite his notable presence on X.\\n\\nWith Tesla Master Plan Part IV being partly released, the company is entering what could very well be its most ambitious stage to date. To usher in an era of sustainable abundance, Tesla would definitely require a “wartime CEO,” someone who could remain locked in and determined to push through any obstacles to ensure that the company achieves its goals.\\n\\n[Continue Reading](https://www.teslarati.com/elon-musk-affirms-tesla-commitment-grueling-work-schedule/)\\n\\n### [Elon Musk](https://www.teslarati.com/category/elon-musk/)\\n\\nTesla analyst says Musk stock buy should send this signal to investors\\n======================================================================\\n\\n“With Musk’s (Tesla stock) purchase, combined with the upward momentum for delivery expectations and robotaxi rollout, we are becoming more bullish.”\\n\\n![Image 45](https://secure.gravatar.com/avatar/ffc6e144b62444bbcd0ba1b71be05ade?s=46&r=pg)\\n\\nPublished\\n\\n4 days ago\\non\\n\\nSeptember 15, 2025\\n\\nBy\\n\\n[Joey Klender](https://www.teslarati.com/author/joey-klender/ \"Posts by Joey Klender\")[](https://twitter.com/KlenderJoey)\\n\\n![Image 46](https://www.teslarati.com/wp-content/uploads/2024/08/5_GigafactoryTexas_07-scaled.jpg)\\n\\n(Credit: Tesla)\\n\\nTesla CEO Elon Musk purchased roughly $1 billion in Tesla shares on Friday, and analysts are now breaking down the move as the stock is headed upward.\\n\\nOne of them is William Blair analyst Jed Dorsheimer, who said in a new note to investors on Monday that Musk’s move should send a signal of confidence to stock buyers, especially considering the company’s numerous catalysts that currently exist.\\n\\n> [Elon Musk just bought $1 billion in Tesla stock, his biggest purchase ever](https://www.teslarati.com/elon-musk-buys-1-billion-tesla-tsla-stock-biggest-purchase-ever/)\\n\\nDorsheimer said [in the note](https://x.com/SawyerMerritt/status/1967593476071043327):\\n\\n_“With Musk’s (Tesla stock) purchase, combined with the upward momentum for delivery expectations and robotaxi rollout, we are becoming more bullish. This purchase is Musk’s first buy since 2020. To us, this sends a strong signal of confidence in the most important part of Tesla’s future business, robotaxi.”_\\n\\nMusk [putting an additional $1 billion back into the company](https://www.teslarati.com/elon-musk-buys-1-billion-tesla-tsla-stock-biggest-purchase-ever/) in the form of more stock ownership is obviously a huge vote of confidence.\\n\\nHe knows more than anyone about the progress Tesla has made and is making on the Robotaxi platform, as well as the company’s ongoing efforts to solve vehicle autonomy. If he’s buying stock, it is more than likely a good sign.\\n\\nTesla has continued to expand its Robotaxi platform in a number of ways. The project has gotten bigger in terms of service area, vehicle fleet, and testing population. Tesla has also [recently received a permit to test in Nevada](https://www.teslarati.com/tesla-lands-regulatory-green-light-robotaxi-testing-new-state-nevada/), unlocking the potential to expand into a brand-new state for the company.\\n\\nIn the note, Dorsheimer also touched on [Musk’s recent pay package](https://www.teslarati.com/tesla-engineer-explains-why-elon-musk-deserves-new-pay-package/), revealing that William Blair recently met with Tesla’s Board of Directors, who gave the firm some more color on the situation:\\n\\n_“We recently participated in a meeting with Tesla’s board of directors to discuss the details of Musk’s performance package. The board is confident of its position in the Delaware case and anticipates a verdict by end of year. It does not expect a similar situation to occur under new Texas jurisdiction. Musk has the board’s full support, and we expect he’ll get more than enough shareholder support for this to pass with flying colors.”_\\n\\nTesla stock is up over 6 percent so far today, trading at $421.50 at the time of publication.\\n\\n[Continue Reading](https://www.teslarati.com/tesla-tsla-analyst-says-musk-stock-buy-should-send-signal-investors/)\\n\\n*   [Latest](https://www.teslarati.com/tesla-jim-cramer-love-affair-elon-musk/#mvp-tab-col1)\\n*   [Popular](https://www.teslarati.com/tesla-jim-cramer-love-affair-elon-musk/#mvp-tab-col2)\\n*   [Videos](https://www.teslarati.com/tesla-jim-cramer-love-affair-elon-musk/#mvp-tab-col3)\\n\\n[![Image 47](https://www.teslarati.com/wp-content/uploads/2025/09/tesla-model-y-interior-80x80.jpg) News 10 hours ago Tesla Full Self-Driving impressions after three weeks of ownership ------------------------------------------------------------------](https://www.teslarati.com/tesla-full-self-driving-impressions-after-three-weeks-of-ownership/)[![Image 48](https://www.teslarati.com/wp-content/uploads/2025/04/tesla-cybertruck-long-range-rwd-80x80.jpeg) News 13 hours ago Tesla gets price target increase on Wall Street, but it’s a head-scratcher --------------------------------------------------------------------------](https://www.teslarati.com/tesla-tsla-price-target-increase-wall-street-head-scratcher/)[![Image 49: Tesla Model S self-presenting door handle](https://www.teslarati.com/wp-content/uploads/2020/05/tesla-model-s-door-handle-80x80.jpg) Elon Musk 15 hours ago Tesla addresses door handle complaints with simple engineering fix ------------------------------------------------------------------](https://www.teslarati.com/tesla-plans-adjust-heavily-scrutinized-car-part-simple-engineering/)\\n\\n[![Image 50](https://www.teslarati.com/wp-content/uploads/2025/07/tesla-interior-navigation-fsd-80x80.jpeg) News 3 weeks ago Tesla is overhauling its Full Self-Driving subscription for easier access -------------------------------------------------------------------------](https://www.teslarati.com/tesla-overhauling-full-self-driving-subscription-easier-access/)[![Image 51](https://www.teslarati.com/wp-content/uploads/2025/08/starship-flight-10-landing-80x80.jpeg) Elon Musk 3 weeks ago Elon Musk shares unbelievable Starship Flight 10 landing feat -------------------------------------------------------------](https://www.teslarati.com/elon-musk-shares-unbelievable-starship-flight-10-landing-feat/)[![Image 52](https://www.teslarati.com/wp-content/uploads/2025/08/starship-flight-10-80x80.jpeg) Elon Musk 3 weeks ago Elon Musk reveals when SpaceX will perform first-ever Starship catch --------------------------------------------------------------------](https://www.teslarati.com/elon-musk-reveals-when-spacex-will-perform-first-ever-starship-catch/)\\n\\n[![Image 53](https://www.teslarati.com/wp-content/uploads/2025/01/spacex-starship-flight-7-liftoff-e1737068892658-80x80.jpeg) News 8 months ago SpaceX completes second catch of lower stage, but loses Starship ----------------------------------------------------------------](https://www.teslarati.com/spacex-completes-second-catch-lower-stage-loses-starship/)[![Image 54](https://www.teslarati.com/wp-content/uploads/2024/10/tesla-robotaxi-wireless-charging-80x80.jpg) News 11 months ago Tesla flexes Robotaxi wireless charging — autonomy from top to bottom ---------------------------------------------------------------------](https://www.teslarati.com/tesla-flexes-robotaxi-wireless-charging-autonomy-from-top-to-bottom/)[![Image 55](https://www.teslarati.com/wp-content/uploads/2024/09/tesla-semi-iaa-transportation-2024-80x80.jpeg) News 1 year ago Tesla unloads new Semi details: variants, efficiency, fleet data so far -----------------------------------------------------------------------](https://www.teslarati.com/tesla-unloads-new-semi-details-variants-efficiency-fleet-data/)\\n\\nAdvertisement\\n\\nDiscover more\\n\\nTeslarati merchandise\\n\\nCybertruck-inspired gadgets\\n\\nTesla Gigafactory Berlin-Brandenburg\\n\\nTeslarati subscriptions\\n\\nSelf-driving car upgrades\\n\\nSpaceX facility expansion\\n\\nTesla&#8217;s\\n\\nReusable rocket fuel canisters\\n\\nSolar-powered EV chargers\\n\\nElectric Vehicle\\n\\n> 🚨 VERY IMPORTANT: If you are planning to take advantage of the $7,500 tax credit on an EV, you must TAKE DELIVERY by September 30. \\n> \\n> \\n> \\n> If the order is submitted before that date and you do not take delivery, you will not be able to take advantage of the credit. [pic.twitter.com/kupCHk67Sh](https://t.co/kupCHk67Sh)\\n> \\n> — TESLARATI (@Teslarati) [August 11, 2025](https://twitter.com/Teslarati/status/1954922553388233077?ref_src=twsrc%5Etfw)\\n\\n#### Trending\\n\\n[* ![Image 56](https://www.teslarati.com/wp-content/uploads/2025/09/tesla-supercharger-your-logo-here-advertising-400x240.jpg)![Image 57](https://www.teslarati.com/wp-content/uploads/2025/09/tesla-supercharger-your-logo-here-advertising-80x80.jpg) News 2 weeks ago Tesla launches new Supercharger program that business owners will love](https://www.teslarati.com/tesla-launches-new-supercharger-program-business-owners-will-love/)[* ![Image 58: tesla elon musk](https://www.teslarati.com/wp-content/uploads/2022/11/tesla-elon-musk-focus-400x240.jpeg)![Image 59: tesla elon musk](https://www.teslarati.com/wp-content/uploads/2022/11/tesla-elon-musk-focus-80x80.jpeg) Elon Musk 2 weeks ago Tesla Board takes firm stance on Elon Musk’s political involvement in pay package proxy](https://www.teslarati.com/tesla-board-takes-firm-stance-elon-musk-political-involvement/)[* ![Image 60](https://www.teslarati.com/wp-content/uploads/2025/09/Tesla-Europe-FSD-Giga-Berlin-a-400x240.jpg)![Image 61](https://www.teslarati.com/wp-content/uploads/2025/09/Tesla-Europe-FSD-Giga-Berlin-a-80x80.jpg) News 2 weeks ago Tesla deploys Unsupervised FSD in Europe for the first time—with a twist](https://www.teslarati.com/tesla-deploys-unsupervised-fsd-europe-with-a-twist/)[* ![Image 62](https://www.teslarati.com/wp-content/uploads/2025/06/Robotaxi-Robotaxi-is-Coming-Desktop-copy-400x240.jpg)![Image 63](https://www.teslarati.com/wp-content/uploads/2025/06/Robotaxi-Robotaxi-is-Coming-Desktop-copy-80x80.jpg) News 2 weeks ago Tesla explains why Robotaxis now have safety monitors in the driver’s seat](https://www.teslarati.com/tesla-explains-why-robotaxis-have-safety-monitors-in-drivers-seat/)[* ![Image 64: tesla robotaxi app on phone](https://www.teslarati.com/wp-content/uploads/2025/04/tesla-employee-robotaxi-3-400x240.jpeg)![Image 65: tesla robotaxi app on phone](https://www.teslarati.com/wp-content/uploads/2025/04/tesla-employee-robotaxi-3-80x80.jpeg) News 2 weeks ago Tesla is already giving Robotaxi privileges hours after opening public app](https://www.teslarati.com/tesla-giving-robotaxi-privileges-hours-after-opening-public-app/)[* ![Image 66](https://www.teslarati.com/wp-content/uploads/2025/06/tesla-robotaxi-austin-reviews-400x240.jpeg)![Image 67](https://www.teslarati.com/wp-content/uploads/2025/06/tesla-robotaxi-austin-reviews-80x80.jpeg) Elon Musk 2 weeks ago Elon Musk says Tesla will take Safety Drivers out of Robotaxi: here’s when](https://www.teslarati.com/elon-musk-tesla-will-take-safety-drivers-out-robotaxi-heres-when/)[* ![Image 68: Tesla-Chips-HW3-1](https://www.teslarati.com/wp-content/uploads/2022/11/Tesla-Chips-HW3-1-400x240.jpg)![Image 69: Tesla-Chips-HW3-1](https://www.teslarati.com/wp-content/uploads/2022/11/Tesla-Chips-HW3-1-80x80.jpg) Elon Musk 2 weeks ago Elon Musk is setting high expectations for Tesla AI5 and AI6 chips](https://www.teslarati.com/elon-musk-is-setting-high-expectations-for-tesla-ai5-and-ai6-chips/)[* ![Image 70](https://www.teslarati.com/wp-content/uploads/2023/09/tesla-model-3-u-s-hero-400x240.jpg)![Image 71](https://www.teslarati.com/wp-content/uploads/2023/09/tesla-model-3-u-s-hero-80x80.jpg) News 1 week ago Tesla is improving this critical feature in older vehicles](https://www.teslarati.com/tesla-improving-this-critical-feature-in-older-vehicles/)\\n\\n[![Image 72: TESLARATI](https://www.teslarati.com/wp-content/uploads/2025/03/Teslarati-Logo-white-transparent-170.png)](https://www.teslarati.com/)\\n\\n*   [](https://www.facebook.com/Teslarati/)\\n*   [](https://twitter.com/teslarati)\\n*   [](https://www.pinterest.com/teslarati/)\\n*   [](https://www.instagram.com/teslarati/)\\n*   [](https://www.tiktok.com/@teslarati)\\n*   [](https://www.youtube.com/channel/UCgY_B6vi2610bBkXFwCxcTg)\\n*   [](https://www.linkedin.com/company/teslaratimedia)\\n\\n*   [Home](http://www.teslarati.com/)\\n*   [About Us](https://www.teslarati.com/about-us/)\\n*   [Contact Us](https://www.teslarati.com/contactus/)\\n*   [Advertise With Us](https://www.teslarati.com/advertise/)\\n*   [Terms](https://www.teslarati.com/terms/)\\n*   [Privacy](https://www.teslarati.com/privacy/)\\n\\nCopyright © TESLARATI. All rights reserved.\\n\\n![Image 73](https://sync.intentiq.com/profiles_engine/ProfilesEngineServlet?at=20&mi=10&secure=1&dpi=456059511&iiqidtype=2&iiqpcid=b07e7c40-4814-4ae4-9ce0-856bc3acb235&iiqpciddate=1758274389099&tsrnd=662_1758274389099&vrref=&jsver=5.082)\\n'},\n",
       " {'title': 'Jim Cramer rebuffs recent downgrades of McDonalds, ...',\n",
       "  'url': 'https://www.cnbc.com/2025/06/09/jim-cramer-mcdonalds-tesla-apple.html',\n",
       "  'content': 'While Cramer conceded he\\'s not thrilled about Tesla CEO Elon Musk\\'s feud with President Donald Trump — or that sales of the company\\'s electric vehicles are declining — he said he feels there is \"another act coming from Musk.\" He pointed out that Tesla is set to launch robotaxis later this month. Although Tesla was hit with two downgrades on Monday, he noted that the stock still managed to close up 4.55%.',\n",
       "  'score': 0.55998856,\n",
       "  'raw_content': 'Published Time: 2025-06-09T22:52:06+0000\\n\\nJim Cramer rebuffs recent downgrades of McDonalds, Tesla and Apple\\n\\n===============\\n\\n[Skip Navigation](https://www.cnbc.com/2025/06/09/jim-cramer-mcdonalds-tesla-apple.html#MainContent)\\n\\n[![Image 1: CNBC logo](https://static-redesign.cnbcfm.com/dist/7821ea3cb72f88388591.svg)](https://www.cnbc.com/)\\n\\n[![Image 2: logo](https://static-redesign.cnbcfm.com/dist/2469ed0a9a4cafdf055e.svg)](https://www.cnbc.com/)\\n\\n[Markets](https://www.cnbc.com/markets/)\\n\\n*   [Pre-Markets](https://www.cnbc.com/pre-markets/)\\n*   [U.S. Markets](https://www.cnbc.com/us-markets/)\\n*   [Currencies](https://www.cnbc.com/currencies/)\\n*   [Cryptocurrency](https://www.cnbc.com/cryptocurrency/)\\n*   [Futures & Commodities](https://www.cnbc.com/futures-and-commodities/)\\n*   [Bonds](https://www.cnbc.com/bonds/)\\n*   [Funds & ETFs](https://www.cnbc.com/funds-and-etfs/)\\n\\n[Business](https://www.cnbc.com/business/)\\n\\n*   [Economy](https://www.cnbc.com/economy/)\\n*   [Finance](https://www.cnbc.com/finance/)\\n*   [Health & Science](https://www.cnbc.com/health-and-science/)\\n*   [Media](https://www.cnbc.com/media/)\\n*   [Real Estate](https://www.cnbc.com/real-estate/)\\n*   [Energy](https://www.cnbc.com/energy/)\\n*   [Climate](https://www.cnbc.com/climate/)\\n*   [Transportation](https://www.cnbc.com/transportation/)\\n*   [Industrials](https://www.cnbc.com/industrials/)\\n*   [Retail](https://www.cnbc.com/retail/)\\n*   [Wealth](https://www.cnbc.com/wealth/)\\n*   [Sports](https://www.cnbc.com/sports/)\\n*   [Life](https://www.cnbc.com/life/)\\n*   [Small Business](https://www.cnbc.com/small-business/)\\n\\n[Investing](https://www.cnbc.com/investing/)\\n\\n*   [Personal Finance](https://www.cnbc.com/personal-finance/)\\n*   [Fintech](https://www.cnbc.com/fintech/)\\n*   [Financial Advisors](https://www.cnbc.com/financial-advisors/)\\n*   [Options Action](https://www.cnbc.com/options-action/)\\n*   [ETF Street](https://www.cnbc.com/etf-street/)\\n*   [Buffett Archive](https://buffett.cnbc.com/)\\n*   [Earnings](https://www.cnbc.com/earnings/)\\n*   [Trader Talk](https://www.cnbc.com/trader-talk/)\\n\\n[Tech](https://www.cnbc.com/technology/)\\n\\n*   [Cybersecurity](https://www.cnbc.com/cybersecurity/)\\n*   [AI](https://www.cnbc.com/ai-artificial-intelligence/)\\n*   [Enterprise](https://www.cnbc.com/enterprise/)\\n*   [Internet](https://www.cnbc.com/internet/)\\n*   [Media](https://www.cnbc.com/media/)\\n*   [Mobile](https://www.cnbc.com/mobile/)\\n*   [Social Media](https://www.cnbc.com/social-media/)\\n*   [CNBC Disruptor 50](https://www.cnbc.com/cnbc-disruptors/)\\n*   [Tech Guide](https://www.cnbc.com/tech-guide/)\\n\\n[Politics](https://www.cnbc.com/politics/)\\n\\n*   [White House](https://www.cnbc.com/white-house/)\\n*   [Policy](https://www.cnbc.com/policy/)\\n*   [Defense](https://www.cnbc.com/defense/)\\n*   [Congress](https://www.cnbc.com/congress/)\\n*   [Expanding Opportunity](https://www.cnbc.com/expanding-opportunity/)\\n\\n[Video](https://www.cnbc.com/tv/)\\n\\n*   [Latest Video](https://www.cnbc.com/latest-video/)\\n*   [Full Episodes](https://www.cnbc.com/live-tv/full-episodes/)\\n*   [Livestream](https://www.cnbc.com/live-tv/)\\n*   [Live Audio](https://www.cnbc.com/live-audio/)\\n*   [Live TV Schedule](https://www.cnbc.com/live-tv/schedule/)\\n*   [CNBC Podcasts](https://www.cnbc.com/podcast/)\\n*   [CEO Interviews](https://www.cnbc.com/video-ceo-interviews/)\\n*   [CNBC Documentaries](https://www.cnbc.com/documentaries/)\\n*   [Digital Originals](https://www.cnbc.com/digital-original/)\\n\\n[Watchlist](https://www.cnbc.com/watchlist/)\\n\\n[Investing Club](https://www.cnbc.com/investingclub/subscribe?__source=investingclub|globalnav|join&tpcc=investingclub|globalnav|join)\\n\\n*   [Trust Portfolio](https://www.cnbc.com/investingclub/charitable-trust/)\\n*   [Analysis](https://www.cnbc.com/investingclub/analysis/)\\n*   [Trade Alerts](https://www.cnbc.com/investingclub/trade-alerts/)\\n*   [Meeting Videos](https://www.cnbc.com/investingclub/video/)\\n*   [Homestretch](https://www.cnbc.com/investingclub/homestretch/)\\n*   [Jim\\'s Columns](https://www.cnbc.com/investingclub/jim-cramer-columns/)\\n*   [Education](https://www.cnbc.com/investingclub/education/)\\n*   [Subscribe](https://www.cnbc.com/investingclub/subscribe?__source=investingclub|dropdownnav&tpcc=investingclub|dropdownnav)\\n\\n![Image 3: Join IC](https://static-redesign.cnbcfm.com/dist/93743f20be95b721880f.svg)\\n\\n[PRO](https://www.cnbc.com/application/pro?__source=pro|globalnav|join&tpcc=pro|globalnav|join)\\n\\n*   [Pro News](https://www.cnbc.com/pro/news/)\\n*   [Josh Brown](https://www.cnbc.com/josh-brown/)NEW!\\n*   [My Portfolio](https://www.cnbc.com/my-portfolio/)\\n*   [Livestream](https://www.cnbc.com/live-tv/)\\n*   [Full Episodes](https://www.cnbc.com/live-tv/full-episodes/)\\n*   [Stock Screener](https://www.cnbc.com/pro-stock-screener/)\\n*   [Market Forecast](https://www.cnbc.com/2023/05/11/market-strategist-survey-forecast.html)\\n*   [Options Investing](https://www.cnbc.com/pro/options-investing/)\\n*   [Chart Investing](https://www.cnbc.com/cnbc-pro-chart-investing/)\\n*   [Stock Lists](https://www.cnbc.com/2025/03/19/cnbc-pro-stock-lists-here-are-the-latest-stocks-including-all-weather-plays.html)\\n*   [Subscribe](https://www.cnbc.com/application/pro/?__source=pro|dropdownnav&tpcc=pro|dropdownnav)\\n\\n![Image 4: Join Pro](https://static-redesign.cnbcfm.com/dist/69ae09b80acd376e9c97.svg)\\n\\n[Livestream](https://www.cnbc.com/live-tv/)\\n\\nMenu\\n\\n*   [Make It](https://www.cnbc.com/make-it/ \"makeit\")\\n*   select \\n\\n*   [USA](https://www.cnbc.com/?region=usa)\\n*   [INTL](https://www.cnbc.com/world/)\\n\\n*    [Livestream](https://www.cnbc.com/live-tv/)  \\n\\nSearch quotes, news & videos\\n*    [Livestream](https://www.cnbc.com/live-tv/)  \\n\\n[Watchlist](https://www.cnbc.com/watchlist/)\\n\\n[SIGN IN](https://www.cnbc.com/2025/06/09/jim-cramer-mcdonalds-tesla-apple.html#)\\n\\n[Create free account](https://www.cnbc.com/2025/06/09/jim-cramer-mcdonalds-tesla-apple.html#)\\n\\n[![Image 5: logo](https://static-redesign.cnbcfm.com/dist/2469ed0a9a4cafdf055e.svg)](https://www.cnbc.com/)\\n\\n[Markets](https://www.cnbc.com/markets/)\\n\\n[Business](https://www.cnbc.com/business/)\\n\\n[Investing](https://www.cnbc.com/investing/)\\n\\n[Tech](https://www.cnbc.com/technology/)\\n\\n[Politics](https://www.cnbc.com/politics/)\\n\\n[Video](https://www.cnbc.com/tv/)\\n\\n[Watchlist](https://www.cnbc.com/watchlist/)\\n\\n[Investing Club](https://www.cnbc.com/investingclub/subscribe?__source=investingclub|globalnav|join&tpcc=investingclub|globalnav|join)\\n\\n![Image 6: Join IC](https://static-redesign.cnbcfm.com/dist/93743f20be95b721880f.svg)\\n\\n[PRO](https://www.cnbc.com/application/pro?__source=pro|globalnav|join&tpcc=pro|globalnav|join)\\n\\n![Image 7: Join Pro](https://static-redesign.cnbcfm.com/dist/69ae09b80acd376e9c97.svg)\\n\\n[Livestream](https://www.cnbc.com/live-tv/)\\n\\nMenu\\n\\n[![Image 8: Mad Money](https://image.cnbcfm.com/api/v1/image/107339578-1701119635506-MAD_MONEY_CNBC_COM_SHOW_HEADER_560x96_v03.png?v=1701119670&w=560&h=96&vtcrop=y) ===================================================================================================================================================================](https://www.cnbc.com/mad-money/)\\n\\nMonday - Friday, 6:00 - 7:00 PM ET\\n\\n*   [Mad Money Video](https://www.cnbc.com/mad-money-video/)\\n*   [Mad Money with Jim Cramer](https://www.cnbc.com/2018/03/01/mad-money-with-jim-cramer-podcast.html)\\n*   [Full Episodes](https://www.cnbc.com/pro/full-business-day-episodes/)\\n*   [Cramer\\'s Soundboard](https://www.cnbc.com/mad-money-soundboard/)\\n\\n[Mad Money](https://www.cnbc.com/mad-money/)\\n\\nJim Cramer rebuffs recent downgrades of McDonalds, Tesla and Apple\\n==================================================================\\n\\nPublished Mon, Jun 9 2025 6:52 PM EDT\\n\\n![Image 9: thumbnail](https://image.cnbcfm.com/api/v1/image/107398819-1712683900519-img_2765_720.jpg?v=1712683936&w=60&h=60&ffmt=webp)\\n\\n[Julie Coleman](https://www.cnbc.com/julie-coleman/)[@itsjuliecoleman](https://twitter.com/@itsjuliecoleman)\\n\\n[WATCH LIVE](https://www.cnbc.com/live-tv/)\\n\\nKey Points\\n\\n*   CNBC\\'s Jim Cramer pushed backed against recent downgrades of stocks he believes can persevere, including McDonald\\'s, Tesla and Apple.\\n*   \"Some stocks should not be downgraded,\" he said. \"It\\'s just not worth it, because it\\'s only a matter of time before they snap right back.\"\\n\\n![Image 10: Some stocks should not be downgraded, it\\'s just not worth it, says Jim Cramer](https://image.cnbcfm.com/api/v1/image/108156865-17495103912ED3-MM-A-BLOCK-SHORT-060925.jpg?v=1749510390&w=750&h=422&vtcrop=y)\\n\\nwatch now\\n\\nVIDEO 2:40 02:40\\n\\nSome stocks should not be downgraded, it\\'s just not worth it, says Jim Cramer\\n\\n[Mad Money with Jim Cramer](https://www.cnbc.com/mad-money/)\\n\\nCNBC\\'s [Jim Cramer](https://www.cnbc.com/jim-cramer-bio/) on Monday pushed backed against recent downgrades of stocks he believes can persevere, including [McDonald\\'s](https://www.cnbc.com/quotes/MCD/), [Tesla](https://www.cnbc.com/quotes/TSLA/) and [Apple](https://www.cnbc.com/quotes/AAPL/).\\n\\n\"Some stocks should not be downgraded,\" he said. \"It\\'s just not worth it, because it\\'s only a matter of time before they snap right back.\"\\n\\nSome analysts have been negative on McDonald\\'s, including Morgan Stanley, who worried about [pressure](https://www.cnbc.com/2025/06/09/stay-away-from-this-fast-food-giant-as-headwinds-mount-morgan-stanley-says.html) on the fast sector in general. One firm, Loop Capital, fretted over negative feedback for the new chicken strips offering. But Cramer expressed confidence in McDonald\\'s ability to quickly discard unpopular products and adapt to changing conditions. For example, he said, the company rolled out a successful discount meal after customers complained prices had become too high. The strength of McDonalds, Cramer added, is that \"they don\\'t fight battles they can\\'t win — when something doesn\\'t work, they just dump it, and they move on.\"\\n\\nWhile Cramer conceded he\\'s not thrilled about Tesla CEO [Elon Musk](https://www.cnbc.com/elon-musk/)\\'s feud with President [Donald Trump](https://www.cnbc.com/donald-trump/) — or that sales of the company\\'s electric vehicles are [declining](https://www.cnbc.com/2025/04/22/tesla-tsla-earnings-report-q1-2025.html) — he said he feels there is \"another act coming from Musk.\" He pointed out that Tesla is set to [launch](https://www.cnbc.com/2025/06/03/tesla-robotaxi-launch-in-austin-has-musk-playing-catch-up-in-hometown.html) robotaxis later this month. Although Tesla was hit with two [downgrades](https://www.cnbc.com/2025/06/09/baird-downgrades-tesla-on-trump-musk-fallout-and-high-robotaxi-expectations.html) on Monday, he noted that the stock still managed to close up 4.55%.\\n\\nMuch of Wall Street has soured on Apple, Cramer surmised, noting a dip in enthusiasm at the [Worldwide Developers Conference](https://www.cnbc.com/2025/06/09/apple-wwdc-2025-live-blog.html). While the iPhone maker is \"in dry spell,\" he claimed it has the capacity to acquire something new, like AI search outfit Perplexity. Apple \"is not a company that stands still,\" Cramer continued. He also emphasized that there\\'s a reason this may not have been Apple\\'s biggest year — it has faced serious pressure from the White House and its harsh tariff policies. Apple is [scrambling](https://www.cnbc.com/2025/05/27/indias-iphone-exports-to-the-us-soared-an-estimated-76percent-in-april.html) to reduce its reliance on China by moving some production to India, and the company committed [$500 billion](https://www.cnbc.com/2025/02/24/apple-to-open-texas-ai-server-factory-in-500-billion-us-expansion.html) to manufacture in the U.S. in an effort to satisfy Trump\\'s demands. But the [president has insisted](https://www.cnbc.com/2025/05/23/trump-tariff-apple-iphones-not-made-in-the-us.html) all phones be made in the U.S., [not India](https://www.cnbc.com/2025/05/15/trump-told-tim-cook-he-doesnt-want-apple-building-iphones-in-india.html), threatening 25% or more tariffs on products made abroad.\\n\\n\"As long as nobody switches to Android, call me sanguine about Apple,\" he said. \"Not more than that…certainly not less than that.\"\\n\\nMcDonald\\'s, Tesla and Apple did not immediately respond to request for comment.\\n\\n![Image 11: Jim Cramer on the bull and bear cases for McDonald\\'s](https://image.cnbcfm.com/api/v1/image/108156864-17495102892ED3-MM-A-BLOCK-060925.jpg?v=1749510288&w=750&h=422&vtcrop=y)\\n\\nwatch now\\n\\nVIDEO 11:21 11:21\\n\\nJim Cramer on the bull and bear cases for McDonald\\'s\\n\\n[Mad Money with Jim Cramer](https://www.cnbc.com/mad-money/)\\n\\nJim Cramer\\'s Guide to Investing\\n-------------------------------\\n\\n[Click here to download**Jim Cramer\\'s Guide to Investing**](https://www.cnbc.com/cramerguide/)at no cost to help you build long-term wealth and invest smarter.\\n\\n[_Sign up now_](https://www.cnbc.com/jointheclub/)_for the CNBC Investing Club to follow Jim Cramer\\'s every move in the market._\\n\\n[Disclaimer](https://www.cnbc.com/mad-money-disclaimer/) The CNBC Investing Club Charitable Trust owns shares of Apple.\\n\\nQuestions for Cramer?\\n\\n Call Cramer: 1-800-743-CNBC\\n\\nWant to take a deep dive into Cramer\\'s world? Hit him up!\\n\\n[Mad Money Twitter](https://twitter.com/MadMoneyOnCNBC) - [Jim Cramer Twitter](https://twitter.com/jimcramer) - [Facebook](https://www.facebook.com/madmoney?ref=aymt_homepage_panel) - [Instagram](http://instagram.com/jimcramer)\\n\\nQuestions, comments, suggestions for the \"Mad Money\" website? madcap@cnbc.com\\n\\n[![Image 12: CNBC logo](https://static-redesign.cnbcfm.com/dist/7821ea3cb72f88388591.svg)](https://www.cnbc.com/)\\n\\n*   [](https://www.facebook.com/cnbc/)\\n*   [](https://www.twitter.com/cnbc/)\\n*   [](https://www.linkedin.com/company/cnbc/)\\n*   [](https://www.instagram.com/cnbc/)\\n*   [](https://www.youtube.com/user/cnbc/)\\n*   [](https://apple.news/T3OtoXcxtRkuHRkM7SpFP_Q)\\n*   [](https://www.cnbc.com/rss-feeds/)\\n\\n*   [Subscribe to CNBC PRO](https://www.cnbc.com/application/pro/?__source=pro|globalfooter)\\n*   [Subscribe to Investing Club](https://www.cnbc.com/investingclub/subscribe?__source=investingclub|globalfooter)\\n*   [Licensing & Reprints](https://www.cnbc.com/cnbc-reprints/)\\n*   [CNBC Councils](https://www.cnbccouncils.com/)\\n*   [Select Personal Finance](https://www.cnbc.com/select/)\\n*   [CNBC on Peacock](https://www.peacocktv.com/?cid=20200101evergreensymdisp009&utm_source=cnbc&utm_medium=symphony_editorial_brandawareness_footerlink&utm_campaign=20200101evergreen&utm_term=na&utm_content=na_na/)\\n*   [Join the CNBC Panel](https://cnbcrsh.qualtrics.com/jfe/form/SV_dgRx5X1nYC0YjNI?Origin=cnbc)\\n*   [Supply Chain Values](https://corporate.comcast.com/values/integrity)\\n*   [Closed Captioning](https://www.cnbc.com/closed-captioning/)\\n*   [Digital Products](https://www.cnbc.com/digital-products/)\\n*   [News Releases](https://www.cnbc.com/cnbc-news-releases/)\\n*   [Internships](https://www.cnbc.com/cnbc-internship-program/)\\n*   [Corrections](https://www.cnbc.com/corrections/)\\n*   [About CNBC](https://www.cnbc.com/about/)\\n*   [Ad Choices](https://www.nbcuniversal.com/privacy/cookies#accordionheader2)\\n*   [Site Map](https://www.cnbc.com/site-map/)\\n*   [Podcasts](https://www.cnbc.com/podcast/)\\n*   [Careers](https://www.cnbc.com/cnbc-careers-and-employment/)\\n*   [Help](https://help.cnbc.com/)\\n*   [Contact](https://help.cnbc.com/contact/)\\n\\n*   #### News Tips\\n\\nGot a confidential news tip? We want to hear from you.\\n\\n[Get In Touch](https://www.cnbc.com/news-tips/)\\n*   #### CNBC Newsletters\\n\\nSign up for free newsletters and get more CNBC delivered to your inbox\\n\\n[Sign Up Now](https://www.cnbc.com/sign-up-for-cnbc-newsletters/)\\nGet this delivered to your inbox, and more info about our products and services.\\n\\n*   #### Advertise With Us\\n\\n[Please Contact Us](https://together.nbcuni.com/advertise/?utm_source=cnbc&utm_medium=referral&utm_campaign=property_ad_pages)\\n\\n*   [Privacy Policy](https://www.nbcuniversal.com/privacy?intake=CNBC)\\n*   ![Image 13: California Consumer Privacy Act (CCPA) Opt-Out Icon](https://static-redesign.cnbcfm.com/dist/17269f1b6083fd5f61be.svg)[Your Privacy Choices](https://www.cnbc.com/2025/06/09/jim-cramer-mcdonalds-tesla-apple.html)\\n*   [CA Notice](https://www.nbcuniversal.com/privacy/california-consumer-privacy-act?intake=CNBC)\\n*   [Terms of Service](https://www.cnbc.com/terms)\\n\\n© 2025 CNBC LLC. All Rights Reserved.[A Division of NBCUniversal](https://www.nbcuniversal.com/)\\n\\nData is a real-time snapshot *Data is delayed at least 15 minutes. Global Business and Financial News, Stock Quotes, and Market Data and Analysis.\\n\\n[Market Data Terms of Use and Disclaimers](https://www.cnbc.com/market-data-terms-of-service/)\\nData also provided by[![Image 14: Reuters logo](https://static-redesign.cnbcfm.com/dist/09c161b9810767a7849e.svg)](https://www.cnbc.com/market-data-terms-of-service/)\\n\\n![Image 15: Company Logo](https://cdn.cookielaw.org/logos/17e5cb00-ad90-47f5-a58d-77597d9d2c16/ffe22c24-b5ec-419d-a0f9-f090bf07f6f0/9366d06d-524a-4047-b900-ba2d60e62e46/NBCU_logo.png)\\n\\nResidents of one of the states listed in the ‘Your Rights’ section of NBCUniversal’s Privacy Policy we have received your Global Privacy Control signal or you have opted out from the toggle below, but there is another step. To opt out of us selling or sharing/processing data such as your name, email address and other associated personal information for targeted advertising activities as described above, please submit the form below. ALL OTHER LOCATIONS: If we do not detect that you are in one of the states listed in the ‘Your Rights’ section of NBCUniversal’s Privacy Policy, these choices will not apply even if you toggle this button off. \\n\\nYour Privacy Choices: Opt-out of sale of personal information and Opt-out of sharing or processing personal information for targeted ads\\n----------------------------------------------------------------------------------------------------------------------------------------\\n\\nTo provide you with a more relevant online experience, certain online ad partners may combine personal information that we make available with data across different businesses and otherwise assist us with related advertising activities, as described in our[Privacy Policy](https://www.nbcuniversal.com/privacy). This may be considered \"selling\" or \"sharing/processing” for targeted online advertising under applicable law.\\n\\nIf you are a resident of one of the states listed in the[\\'Your Rights\\'](https://www.nbcuniversal.com/privacy#accordionheader5) section of NBCUniversal’s Privacy Policy, to opt out of us selling or sharing/processing your personal information:\\n\\n*   such as cookies and devices identifiers for the targeted ads and related purposes for this site/app on this browser/device: switch the “Allow Sale of My Personal Info or Sharing/Processing for Targeted Ads” toggle under Manage Preferences to OFF (grey color) by moving it LEFT and clicking “Confirm My Choice”. \\n*   such as your name, email address and other associated personal information for targeted advertising activities as described above, please submit the form below. \\n\\n**Please note that choices related to cookies and device identifiers are specific to the brand’s website or app on the browser or device where you are making the election.**\\n\\n### Manage Preferences: Toggle Off and Click ‘Confirm My Choice’ and Complete Opt-Out Form to Opt-Out\\n\\n#### Allow Sale of My Personal Info and Sharing/Processing for Targeted Ads\\n\\n- [x] Allow Sale of My Personal Info and Sharing/Processing for Targeted Ads \\n\\n**Resident of the states listed in the \\'Your Rights\\' section of NBCUniversal’s Privacy Policy Only:** To opt out of selling or sharing/processing for targeted advertising of information such as cookies and device identifiers processed for targeted ads (as defined by law) and related purposes for this site/app on this browser/device, switch this toggle to off (grey color) by moving it left and clicking **“Confirm My Choice”** below. (This will close this dialogue box, so please open the email Opt-Out Form 1st). \\n\\n**ALL OTHER LOCATIONS:** If we do not detect that you are in one of the states listed in the \\'Your Rights\\' section of NBCUniversal’s Privacy Policy, this choice will not apply even if you toggle this button off.\\n\\n If you turn this off, you will still see ads, but they may be less relevant or based only on our first-party information about you.\\n\\nPlease note, you must make the Manage Preference choices on each site/app on each browser/device you use to access the services. You must also renew this choice if you clear your cookies. You can change your precise geolocation permissions for our mobile apps in your mobile device settings.\\n\\n#### Opt-Out Form\\n\\nAlways Active\\n\\nTo opt out of the use of your email and other personal information related to that email such as your name for targeted advertising activities please complete this [Opt-Out Form](https://privacyportal.onetrust.com/webform/17e5cb00-ad90-47f5-a58d-77597d9d2c16/cda09e33-f935-4960-87de-afa722cef3c2)\\n\\n#### Strictly Necessary Cookies\\n\\nAlways Active\\n\\nThese Cookies and SDKs are required for Service functionality, including security and fraud prevention, and to enable any purchasing capabilities. You can set your browser to block these tracking technologies, but some parts of the site may not function properly.\\n\\n### Cookie List\\n\\nClear\\n\\n- [x] checkbox label label\\n\\nApply Cancel\\n\\nConsent Leg.Interest\\n\\n- [x] checkbox label label\\n\\n- [x] checkbox label label\\n\\n- [x] checkbox label label\\n\\nConfirm My Choice\\n\\n[![Image 16: Powered by Onetrust](https://cdn.cookielaw.org/logos/static/powered_by_logo.svg)](https://www.onetrust.com/products/cookie-consent/)\\n'},\n",
       " {'title': 'Charts indicate Tesla could be ready to rally, Jim Cramer ...',\n",
       "  'url': 'https://www.cnbc.com/2025/03/12/charts-indicate-tesla-could-be-ready-to-rally-jim-cramer-says.html',\n",
       "  'content': 'Action in Tesla shares has been inconsistent since the election, roaring soon after as investors realized CEO Elon Musk would be close to President Donald Trump. But the stock has since tanked, and Cramer said some of the decline can be explained by Musk\\'s controversial and larger-than-expected role in the administration. Controversy is not good for sales, he added, and the market has largely lost interest in \"high-flying growth names\" like Tesla. [...] However, Cramer reviewed Williams\\' charts, which suggest there could be a bottom in Tesla. He first examined Williams\\' proprietary valuation model that suggests Tesla has become undervalued, which in the past has brought out buyers and led the stock to bounce. Another chart displays Tesla\\'s seasonal patterns, which show that the stock typically start to rally at this time of year. [...] Williams also looked for cycles in Tesla beyond its seasonal performance, using his findings to create a chart that forecasts where the stock is headed.\\n\\n\"Right now, it suggests that Tesla should be ready to rally, maybe furiously, with a pullback creating another buying opportunity around mid-June,\" Cramer said. \"Larry notes that we\\'ve seen this wave in Tesla numerous times before historically, the stock\\'s rallied 80% of the time during this time period, I think that\\'s pretty good odds.\"',\n",
       "  'score': 0.53619206,\n",
       "  'raw_content': '![CNBC](https://static-redesign.cnbcfm.com/dist/7821ea3cb72f88388591.svg)\\n![logo](https://static-redesign.cnbcfm.com/dist/2469ed0a9a4cafdf055e.svg)\\n![Join IC](https://static-redesign.cnbcfm.com/dist/93743f20be95b721880f.svg)\\n![Join Pro](https://static-redesign.cnbcfm.com/dist/69ae09b80acd376e9c97.svg)\\n![logo](https://static-redesign.cnbcfm.com/dist/2469ed0a9a4cafdf055e.svg)\\n![Join IC](https://static-redesign.cnbcfm.com/dist/93743f20be95b721880f.svg)\\n![Join Pro](https://static-redesign.cnbcfm.com/dist/69ae09b80acd376e9c97.svg)\\n\\n# Mad Money\\n\\n![Mad Money](https://image.cnbcfm.com/api/v1/image/107339578-1701119635506-MAD_MONEY_CNBC_COM_SHOW_HEADER_560x96_v03.png?v=1701119670&w=560&h=96&vtcrop=y)\\n\\nMonday - Friday, 6:00 - 7:00 PM ET\\n\\n# Charts indicate Tesla could be ready to rally, Jim Cramer says\\n\\n![thumbnail](https://image.cnbcfm.com/api/v1/image/107398819-1712683900519-img_2765_720.jpg?v=1712683936&w=60&h=60&ffmt=webp)\\n![Controversy is not good for sales, says Jim Cramer on Tesla](https://image.cnbcfm.com/api/v1/image/108115150-4ED3-MM-F-BLOCK-SHORT-031225.jpg?v=1741822093&w=750&h=422&vtcrop=y)\\n\\nCNBC\\'s [Jim Cramer](https://www.cnbc.com/jim-cramer-bio/) on Wednesday reviewed analysis from chartist Larry Williams that suggests [Tesla](/quotes/TSLA/)\\'s gains during the day\\'s session might be the start of a rally.\\n\\n\"If you believe Larry Williams — and he\\'s earned a lot of credibility over the years — then this is a \\'gentlemen, start your electric engines\\' moment for Tesla,\" Cramer said.\" Assuming he\\'s right, the stock\\'s rebound over the past couple of days is just the beginning of a huge move. And I got to tell you, I\\'m with Larry.\"\\n\\nAction in Tesla shares has been inconsistent since the election, roaring soon after as investors realized CEO Elon Musk would be close to President Donald Trump. But the stock has since tanked, and Cramer said some of the decline can be explained by Musk\\'s controversial and larger-than-expected role in the administration. Controversy is not good for sales, he added, and the market has largely lost interest in \"high-flying growth names\" like Tesla.\\n\\nBut the stock started to rebound on Tuesday and continued to [climb](https://www.cnbc.com/2025/03/12/tesla-shares-second-day-steepest-drop-since-2020-musk-trump.html) during Wednesday\\'s session, closing the day up 7.60% after recording its worst day since 2020 at the start of the week. Cramer noted that it can be hard to predict Tesla\\'s fundamentals in part because it trades on the potential of self-driving technology that will come to fruition years from now.\\n\\nHowever, Cramer reviewed Williams\\' charts, which suggest there could be a bottom in Tesla. He first examined Williams\\' proprietary valuation model that suggests Tesla has become undervalued, which in the past has brought out buyers and led the stock to bounce. Another chart displays Tesla\\'s seasonal patterns, which show that the stock typically start to rally at this time of year.\\n\\nWilliams also looked for cycles in Tesla beyond its seasonal performance, using his findings to create a chart that forecasts where the stock is headed.\\n\\n\"Right now, it suggests that Tesla should be ready to rally, maybe furiously, with a pullback creating another buying opportunity around mid-June,\" Cramer said. \"Larry notes that we\\'ve seen this wave in Tesla numerous times before historically, the stock\\'s rallied 80% of the time during this time period, I think that\\'s pretty good odds.\"\\n\\n![Jim Cramer talks what is next for Tesla](https://image.cnbcfm.com/api/v1/image/108115148-17418215084ED3-MM-F-BLOCK-031225.jpg?v=1741821507&w=750&h=422&vtcrop=y)\\n\\n## Jim Cramer\\'s Guide to Investing\\n\\n[Click here to download\\xa0**Jim Cramer\\'s Guide to Investing**](https://www.cnbc.com/cramerguide/)at no cost to help you build long-term wealth and invest smarter.\\n\\n[*Sign up now*](https://www.cnbc.com/jointheclub/)*for the CNBC Investing Club to follow Jim Cramer\\'s every move in the market.*\\n\\n[Disclaimer](https://www.cnbc.com/mad-money-disclaimer/)\\n\\nQuestions for Cramer?  \\n Call Cramer: 1-800-743-CNBC\\n\\nWant to take a deep dive into Cramer\\'s world? Hit him up!  \\n [Mad Money Twitter](https://twitter.com/MadMoneyOnCNBC) - [Jim Cramer Twitter](https://twitter.com/jimcramer) - [Facebook](https://www.facebook.com/madmoney?ref=aymt_homepage_panel) - [Instagram](http://instagram.com/jimcramer)\\n\\nQuestions, comments, suggestions for the \"Mad Money\" website? madcap@cnbc.com\\n\\n![CNBC logo](https://static-redesign.cnbcfm.com/dist/7821ea3cb72f88388591.svg)\\n\\n#### News Tips\\n\\nGot a confidential news tip? We want to hear from you.\\n\\n#### CNBC Newsletters\\n\\nSign up for free newsletters and get more CNBC delivered to your inbox\\n\\nGet this delivered to your inbox, and more info about our products and services.\\n\\n#### Advertise With Us\\n\\n![California Consumer Privacy Act (CCPA) Opt-Out Icon](https://static-redesign.cnbcfm.com/dist/17269f1b6083fd5f61be.svg)\\n\\n© 2025 CNBC LLC. All Rights Reserved.\\xa0[A Division of NBCUniversal](https://www.nbcuniversal.com)\\n\\nData is a real-time snapshot \\\\*Data is delayed at least 15 minutes.\\nGlobal Business and Financial News, Stock Quotes, and Market Data\\nand Analysis.\\n\\nData also provided by[![Reuters logo](https://static-redesign.cnbcfm.com/dist/09c161b9810767a7849e.svg)](/market-data-terms-of-service/)\\n\\n![Reuters logo](https://static-redesign.cnbcfm.com/dist/09c161b9810767a7849e.svg)'}]"
      ]
     },
     "execution_count": 22,
     "metadata": {},
     "output_type": "execute_result"
    },
    {
     "data": {
      "text/html": [
       "\n",
       "<div>\n",
       "  <style scoped>\n",
       "  button {\n",
       "    border: none;\n",
       "    border-radius: 4px;\n",
       "    background-color: rgb(34, 114, 180);\n",
       "    font-family: -apple-system, \"system-ui\", \"Segoe UI\", Roboto, \"Helvetica Neue\", Arial;\n",
       "    font-size: 13px;\n",
       "    color: white;\n",
       "    margin-top: 8px;\n",
       "    margin-bottom: 8px;\n",
       "    padding: 8px 16px;\n",
       "    cursor: pointer;\n",
       "  }\n",
       "  button:hover {\n",
       "    background-color: rgb(66, 153, 224);\n",
       "  }\n",
       "  </style>\n",
       "  <button\n",
       "    onclick=\"\n",
       "        const display = this.nextElementSibling.style.display;\n",
       "        const isCollapsed = display === 'none';\n",
       "        this.nextElementSibling.style.display = isCollapsed ? null : 'none';\n",
       "\n",
       "        const verb = isCollapsed ? 'Collapse' : 'Expand';\n",
       "        this.innerText = `${verb} MLflow Trace`;\n",
       "    \"\n",
       "  >Collapse MLflow Trace</button>\n",
       "  <iframe\n",
       "    id=\"trace-renderer\"\n",
       "    style=\"width: 100%; height: 500px; border: none; resize: vertical;\"\n",
       "    src=\"http://20.75.92.162:5000/static-files/lib/notebook-trace-renderer/index.html?trace_id=tr-004c23995ca778e7a97ea7b87ea28ec1&amp;experiment_id=555864553691571308&amp;version=3.3.2\"\n",
       "  />\n",
       "</div>\n"
      ],
      "text/plain": [
       "Trace(trace_id=tr-004c23995ca778e7a97ea7b87ea28ec1)"
      ]
     },
     "metadata": {},
     "output_type": "display_data"
    }
   ],
   "source": [
    "class LinkedinInputs(BaseModel):\n",
    "    \"\"\"Inputs to the web search tool.\"\"\"\n",
    "\n",
    "    query: Any= Field(\n",
    "        description=\"query to look up in web particularly linkedin data, should be a list\"\n",
    "    )\n",
    "\n",
    "\n",
    "@mlflow.trace\n",
    "def linkedin_tool_func(entity_name_1:str):\n",
    "    linkedin_tool = TavilySearchResults(max_results=3,\n",
    "                                        include_answer=True,\n",
    "            include_raw_content=True,\n",
    "            include_images=True,\n",
    "            name=\"Linkedin-tool\",\n",
    "    description=\"Look up the latest information about the entity_name specified in the web spcifically linkedin page  and return a concise 2 line response highlighting financial news related to the entity\",\n",
    "    args_schema=LinkedinInputs,\n",
    "\n",
    "\n",
    "    \n",
    "    \n",
    "    return_direct=True,\n",
    "    metadata={\"use_case\": \"entity_analysis\", \"source\": \"Linkedin\"}\n",
    ")\n",
    "    return linkedin_tool.run(entity_name)\n",
    "\n",
    "\n",
    "linkedin_tool_func(entity_name)\n",
    "\n"
   ]
  }
 ],
 "metadata": {
  "kernelspec": {
   "display_name": "genai",
   "language": "python",
   "name": "python3"
  },
  "language_info": {
   "codemirror_mode": {
    "name": "ipython",
    "version": 3
   },
   "file_extension": ".py",
   "mimetype": "text/x-python",
   "name": "python",
   "nbconvert_exporter": "python",
   "pygments_lexer": "ipython3",
   "version": "3.11.13"
  }
 },
 "nbformat": 4,
 "nbformat_minor": 5
}
