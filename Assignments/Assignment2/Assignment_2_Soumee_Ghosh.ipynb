{
 "cells": [
  {
   "cell_type": "markdown",
   "id": "43347601",
   "metadata": {},
   "source": [
    "### Assignment 2: Personalized Course Recommendation Engine\n"
   ]
  },
  {
   "cell_type": "markdown",
   "id": "c4e16549",
   "metadata": {},
   "source": [
    "1. Background & Context\n",
    "Online learning platforms host thousands of courses across domains—learners often feel \n",
    "overwhelmed by choices. A personalized recommender that understands both course \n",
    "content and individual learner profiles can boost engagement and completion rates by \n",
    "suggesting the most relevant next steps."
   ]
  },
  {
   "cell_type": "markdown",
   "id": "852eef0f",
   "metadata": {},
   "source": [
    "2. Problem Statement\n",
    "“Design and implement a Course Recommendation Engine that—given a user query\n",
    "(completed courses + a short interests blurb)—returns the top-5 most relevant courses \n",
    "from a catalog of course offerings, using embedding models and a vector database for \n",
    "semantic matching.”\n"
   ]
  },
  {
   "cell_type": "markdown",
   "id": "f7a7e0b1",
   "metadata": {},
   "source": [
    "### Installing necessary packages"
   ]
  },
  {
   "cell_type": "code",
   "execution_count": 2,
   "id": "d18e2cfb",
   "metadata": {},
   "outputs": [
    {
     "name": "stdout",
     "output_type": "stream",
     "text": [
      "\n",
      "\u001b[1m[\u001b[0m\u001b[34;49mnotice\u001b[0m\u001b[1;39;49m]\u001b[0m\u001b[39;49m A new release of pip is available: \u001b[0m\u001b[31;49m24.0\u001b[0m\u001b[39;49m -> \u001b[0m\u001b[32;49m25.2\u001b[0m\n",
      "\u001b[1m[\u001b[0m\u001b[34;49mnotice\u001b[0m\u001b[1;39;49m]\u001b[0m\u001b[39;49m To update, run: \u001b[0m\u001b[32;49mpip install --upgrade pip\u001b[0m\n"
     ]
    }
   ],
   "source": [
    "!python -m pip install pypdf sentence-transformers faiss-cpu --quiet"
   ]
  },
  {
   "cell_type": "markdown",
   "id": "70addd2f",
   "metadata": {},
   "source": [
    "#### Importing libraries"
   ]
  },
  {
   "cell_type": "code",
   "execution_count": 4,
   "id": "828d7e30",
   "metadata": {},
   "outputs": [
    {
     "name": "stderr",
     "output_type": "stream",
     "text": [
      "/home/zadmin/Desktop/test/GAAI-B5-GCP/genai/lib/python3.11/site-packages/tqdm/auto.py:21: TqdmWarning: IProgress not found. Please update jupyter and ipywidgets. See https://ipywidgets.readthedocs.io/en/stable/user_install.html\n",
      "  from .autonotebook import tqdm as notebook_tqdm\n"
     ]
    }
   ],
   "source": [
    "\n",
    "from sentence_transformers import SentenceTransformer\n",
    "import faiss\n",
    "import numpy as np\n",
    "import pandas as pd\n"
   ]
  },
  {
   "cell_type": "markdown",
   "id": "1816feba",
   "metadata": {},
   "source": [
    "### Assigning the embedding model and model name for LLM"
   ]
  },
  {
   "cell_type": "code",
   "execution_count": 3,
   "id": "babdc8bb",
   "metadata": {},
   "outputs": [],
   "source": [
    "import os\n",
    "\n",
    "embedding_model_name = \"models/gemini-embedding-001\"\n",
    "model_name = \"gemini-2.0-flash\""
   ]
  },
  {
   "cell_type": "markdown",
   "id": "d2dad999",
   "metadata": {},
   "source": [
    "### Reading the dataset"
   ]
  },
  {
   "cell_type": "code",
   "execution_count": 5,
   "id": "c2f1d011",
   "metadata": {},
   "outputs": [
    {
     "data": {
      "text/html": [
       "<div>\n",
       "<style scoped>\n",
       "    .dataframe tbody tr th:only-of-type {\n",
       "        vertical-align: middle;\n",
       "    }\n",
       "\n",
       "    .dataframe tbody tr th {\n",
       "        vertical-align: top;\n",
       "    }\n",
       "\n",
       "    .dataframe thead th {\n",
       "        text-align: right;\n",
       "    }\n",
       "</style>\n",
       "<table border=\"1\" class=\"dataframe\">\n",
       "  <thead>\n",
       "    <tr style=\"text-align: right;\">\n",
       "      <th></th>\n",
       "      <th>course_id</th>\n",
       "      <th>title</th>\n",
       "      <th>description</th>\n",
       "    </tr>\n",
       "  </thead>\n",
       "  <tbody>\n",
       "    <tr>\n",
       "      <th>0</th>\n",
       "      <td>C001</td>\n",
       "      <td>Foundations of Machine Learning</td>\n",
       "      <td>Understand foundational machine learning algor...</td>\n",
       "    </tr>\n",
       "    <tr>\n",
       "      <th>1</th>\n",
       "      <td>C002</td>\n",
       "      <td>Deep Learning with TensorFlow and Keras</td>\n",
       "      <td>Explore neural network architectures using Ten...</td>\n",
       "    </tr>\n",
       "    <tr>\n",
       "      <th>2</th>\n",
       "      <td>C003</td>\n",
       "      <td>Natural Language Processing Fundamentals</td>\n",
       "      <td>Dive into NLP techniques for processing and un...</td>\n",
       "    </tr>\n",
       "    <tr>\n",
       "      <th>3</th>\n",
       "      <td>C004</td>\n",
       "      <td>Computer Vision and Image Processing</td>\n",
       "      <td>Learn the principles of computer vision and im...</td>\n",
       "    </tr>\n",
       "    <tr>\n",
       "      <th>4</th>\n",
       "      <td>C005</td>\n",
       "      <td>Reinforcement Learning Basics</td>\n",
       "      <td>Get introduced to reinforcement learning parad...</td>\n",
       "    </tr>\n",
       "  </tbody>\n",
       "</table>\n",
       "</div>"
      ],
      "text/plain": [
       "  course_id                                     title  \\\n",
       "0      C001           Foundations of Machine Learning   \n",
       "1      C002   Deep Learning with TensorFlow and Keras   \n",
       "2      C003  Natural Language Processing Fundamentals   \n",
       "3      C004      Computer Vision and Image Processing   \n",
       "4      C005             Reinforcement Learning Basics   \n",
       "\n",
       "                                         description  \n",
       "0  Understand foundational machine learning algor...  \n",
       "1  Explore neural network architectures using Ten...  \n",
       "2  Dive into NLP techniques for processing and un...  \n",
       "3  Learn the principles of computer vision and im...  \n",
       "4  Get introduced to reinforcement learning parad...  "
      ]
     },
     "execution_count": 5,
     "metadata": {},
     "output_type": "execute_result"
    }
   ],
   "source": [
    "df=pd.read_csv(\"dummydatadataset.csv\")\n",
    "df.head(5)"
   ]
  },
  {
   "cell_type": "code",
   "execution_count": 6,
   "id": "c310784f",
   "metadata": {},
   "outputs": [],
   "source": [
    "df[\"title_descrp\"]=df[\"title\"]+\"//\"+df[\"description\"]"
   ]
  },
  {
   "cell_type": "code",
   "execution_count": 7,
   "id": "92afcd6b",
   "metadata": {},
   "outputs": [
    {
     "data": {
      "text/html": [
       "<div>\n",
       "<style scoped>\n",
       "    .dataframe tbody tr th:only-of-type {\n",
       "        vertical-align: middle;\n",
       "    }\n",
       "\n",
       "    .dataframe tbody tr th {\n",
       "        vertical-align: top;\n",
       "    }\n",
       "\n",
       "    .dataframe thead th {\n",
       "        text-align: right;\n",
       "    }\n",
       "</style>\n",
       "<table border=\"1\" class=\"dataframe\">\n",
       "  <thead>\n",
       "    <tr style=\"text-align: right;\">\n",
       "      <th></th>\n",
       "      <th>course_id</th>\n",
       "      <th>title</th>\n",
       "      <th>description</th>\n",
       "      <th>title_descrp</th>\n",
       "    </tr>\n",
       "  </thead>\n",
       "  <tbody>\n",
       "    <tr>\n",
       "      <th>0</th>\n",
       "      <td>C001</td>\n",
       "      <td>Foundations of Machine Learning</td>\n",
       "      <td>Understand foundational machine learning algor...</td>\n",
       "      <td>Foundations of Machine Learning//Understand fo...</td>\n",
       "    </tr>\n",
       "    <tr>\n",
       "      <th>1</th>\n",
       "      <td>C002</td>\n",
       "      <td>Deep Learning with TensorFlow and Keras</td>\n",
       "      <td>Explore neural network architectures using Ten...</td>\n",
       "      <td>Deep Learning with TensorFlow and Keras//Explo...</td>\n",
       "    </tr>\n",
       "    <tr>\n",
       "      <th>2</th>\n",
       "      <td>C003</td>\n",
       "      <td>Natural Language Processing Fundamentals</td>\n",
       "      <td>Dive into NLP techniques for processing and un...</td>\n",
       "      <td>Natural Language Processing Fundamentals//Dive...</td>\n",
       "    </tr>\n",
       "    <tr>\n",
       "      <th>3</th>\n",
       "      <td>C004</td>\n",
       "      <td>Computer Vision and Image Processing</td>\n",
       "      <td>Learn the principles of computer vision and im...</td>\n",
       "      <td>Computer Vision and Image Processing//Learn th...</td>\n",
       "    </tr>\n",
       "    <tr>\n",
       "      <th>4</th>\n",
       "      <td>C005</td>\n",
       "      <td>Reinforcement Learning Basics</td>\n",
       "      <td>Get introduced to reinforcement learning parad...</td>\n",
       "      <td>Reinforcement Learning Basics//Get introduced ...</td>\n",
       "    </tr>\n",
       "  </tbody>\n",
       "</table>\n",
       "</div>"
      ],
      "text/plain": [
       "  course_id                                     title  \\\n",
       "0      C001           Foundations of Machine Learning   \n",
       "1      C002   Deep Learning with TensorFlow and Keras   \n",
       "2      C003  Natural Language Processing Fundamentals   \n",
       "3      C004      Computer Vision and Image Processing   \n",
       "4      C005             Reinforcement Learning Basics   \n",
       "\n",
       "                                         description  \\\n",
       "0  Understand foundational machine learning algor...   \n",
       "1  Explore neural network architectures using Ten...   \n",
       "2  Dive into NLP techniques for processing and un...   \n",
       "3  Learn the principles of computer vision and im...   \n",
       "4  Get introduced to reinforcement learning parad...   \n",
       "\n",
       "                                        title_descrp  \n",
       "0  Foundations of Machine Learning//Understand fo...  \n",
       "1  Deep Learning with TensorFlow and Keras//Explo...  \n",
       "2  Natural Language Processing Fundamentals//Dive...  \n",
       "3  Computer Vision and Image Processing//Learn th...  \n",
       "4  Reinforcement Learning Basics//Get introduced ...  "
      ]
     },
     "execution_count": 7,
     "metadata": {},
     "output_type": "execute_result"
    }
   ],
   "source": [
    "df.head(5)"
   ]
  },
  {
   "cell_type": "markdown",
   "id": "2a4a323f",
   "metadata": {},
   "source": [
    "### Generating vector embeddings"
   ]
  },
  {
   "cell_type": "code",
   "execution_count": 8,
   "id": "417f7556",
   "metadata": {},
   "outputs": [],
   "source": [
    "from langchain_google_genai import GoogleGenerativeAIEmbeddings\n",
    "embeddings = GoogleGenerativeAIEmbeddings(model=embedding_model_name)"
   ]
  },
  {
   "cell_type": "code",
   "execution_count": 23,
   "id": "7b23b07f",
   "metadata": {},
   "outputs": [],
   "source": [
    "import os\n",
    "vector_db_path = \"VectorDB_Chroma_assignment_2\"\n",
    "os.makedirs(vector_db_path,exist_ok=True)"
   ]
  },
  {
   "cell_type": "code",
   "execution_count": null,
   "id": "bc73dd11",
   "metadata": {},
   "outputs": [],
   "source": [
    "from langchain_chroma import Chroma\n",
    "vectorstore = Chroma.from_texts(texts=df[\"title_descrp\"].to_list(),\n",
    "                                 embedding= embeddings, \n",
    "                                 persist_directory=vector_db_path,collection_name=\"dummydata\",\n",
    "                                    collection_metadata={\"use_type\":\"TRAINING AND EXPERIMENTATION\"} ,\n",
    "                                    metadatas=[{\"course_id\": cid} for cid in df[\"course_id\"]]) ###adding course_id as metadata"
   ]
  },
  {
   "cell_type": "code",
   "execution_count": 25,
   "id": "3832b4e0",
   "metadata": {},
   "outputs": [
    {
     "name": "stdout",
     "output_type": "stream",
     "text": [
      "Number of docs dumped into vector DB\n",
      "25\n"
     ]
    }
   ],
   "source": [
    "print(\"Number of docs dumped into vector DB\")\n",
    "print(len(vectorstore.get()['ids']))"
   ]
  },
  {
   "cell_type": "code",
   "execution_count": 26,
   "id": "99a80588",
   "metadata": {},
   "outputs": [],
   "source": [
    "# using vector db object to initialize a retriever object - to perform vector search/retrieval\n",
    "retriever = vectorstore.as_retriever(search_type=\"similarity\", search_kwargs={\"k\": 5})"
   ]
  },
  {
   "cell_type": "code",
   "execution_count": 27,
   "id": "75a7ca6d",
   "metadata": {},
   "outputs": [
    {
     "data": {
      "text/plain": [
       "5"
      ]
     },
     "execution_count": 27,
     "metadata": {},
     "output_type": "execute_result"
    }
   ],
   "source": [
    "retrieved_docs = retriever.invoke(\"Python Programming for data science\")\n",
    "len(retrieved_docs)"
   ]
  },
  {
   "cell_type": "code",
   "execution_count": null,
   "id": "aafc32bf",
   "metadata": {},
   "outputs": [
    {
     "name": "stdout",
     "output_type": "stream",
     "text": [
      "(Document(id='0f4b0ec5-5161-4b84-a758-537c466883d7', metadata={'course_id': 'C016'}, page_content='Python Programming for Data Science//Learn Python fundamentals for data science: variables, control flow, functions, and object-oriented programming. Advance to data handling with pandas, numerical computing with NumPy, and basic plotting with matplotlib. You’ll build reproducible data workflows, clean and transform datasets, and perform exploratory analysis, laying the groundwork for machine learning and statistical modeling projects.'), 0.16565607488155365)\n"
     ]
    }
   ],
   "source": [
    "#### testing\n",
    "ret_docs = vectorstore.similarity_search_with_score(\"Python programming for data science\",k=5)\n",
    "print(ret_docs[0])"
   ]
  },
  {
   "cell_type": "code",
   "execution_count": 29,
   "id": "031eb8a7",
   "metadata": {},
   "outputs": [
    {
     "data": {
      "text/plain": [
       "'Foundations of Machine Learning//Understand foundational machine learning algorithms including regression, classification, clustering, and dimensionality reduction. This course covers data pre-processing, feature engineering, model selection, hyperparameter tuning, and evaluation metrics. Hands-on labs use scikit-learn and Python to implement end-to-end workflows on real-world datasets, preparing learners for practical machine learning applications with interactive engaging exercises.'"
      ]
     },
     "execution_count": 29,
     "metadata": {},
     "output_type": "execute_result"
    }
   ],
   "source": [
    "retrieved_docs[1].page_content"
   ]
  },
  {
   "cell_type": "code",
   "execution_count": 32,
   "id": "de363b10",
   "metadata": {},
   "outputs": [],
   "source": [
    "\n",
    "   # Perform similarity search in Chroma vector store\n",
    "results = vectorstore.similarity_search_with_score(\"python programming for data science\", k=5)\n",
    "\n",
    "# Extract course IDs and similarity scores\n",
    "recommendations = [(doc.metadata[\"course_id\"], score) for doc, score in results]\n"
   ]
  },
  {
   "cell_type": "code",
   "execution_count": 34,
   "id": "f13c7992",
   "metadata": {},
   "outputs": [
    {
     "name": "stdout",
     "output_type": "stream",
     "text": [
      "[(Document(id='0f4b0ec5-5161-4b84-a758-537c466883d7', metadata={'course_id': 'C016'}, page_content='Python Programming for Data Science//Learn Python fundamentals for data science: variables, control flow, functions, and object-oriented programming. Advance to data handling with pandas, numerical computing with NumPy, and basic plotting with matplotlib. You’ll build reproducible data workflows, clean and transform datasets, and perform exploratory analysis, laying the groundwork for machine learning and statistical modeling projects.'), 0.21110709011554718), (Document(id='5d398890-3a56-4a76-8bde-35b6634ce89a', metadata={'course_id': 'C001'}, page_content='Foundations of Machine Learning//Understand foundational machine learning algorithms including regression, classification, clustering, and dimensionality reduction. This course covers data pre-processing, feature engineering, model selection, hyperparameter tuning, and evaluation metrics. Hands-on labs use scikit-learn and Python to implement end-to-end workflows on real-world datasets, preparing learners for practical machine learning applications with interactive engaging exercises.'), 0.39871352910995483), (Document(id='df3db5f0-411d-4fdb-a1de-047d81bb74fc', metadata={'course_id': 'C017'}, page_content='R Programming and Statistical Analysis//Get introduced to R for statistical computing and graphics. Topics include data structures, control flow, and functional programming. Use tidyverse libraries—dplyr, ggplot2, tidyr—for data manipulation and visualization. Explore hypothesis testing, regression analysis, and ANOVA. Through labs, apply statistical methods to real-world datasets and communicate results with reproducible R Markdown reports.'), 0.4062874913215637), (Document(id='976f5a36-38ad-411e-83e2-132636eab304', metadata={'course_id': 'C003'}, page_content='Natural Language Processing Fundamentals//Dive into NLP techniques for processing and understanding human language. You will learn tokenization, stemming, lemmatization, part-of-speech tagging, named entity recognition, and sentiment analysis. The course includes transformer architectures, attention mechanisms, and fine-tuning pre-trained language models. Hands-on Python labs use Hugging Face and spaCy for end-to-end natural language pipelines and projects.'), 0.42717573046684265), (Document(id='9c34c0b7-c78a-4c2e-bbb0-8b9aca3509c7', metadata={'course_id': 'C002'}, page_content='Deep Learning with TensorFlow and Keras//Explore neural network architectures using TensorFlow and Keras frameworks. This course covers feedforward networks, convolutional neural networks, recurrent neural networks, and transfer learning. Learn to build, train, evaluate, and optimize deep learning models for image classification, sequence modeling, and text processing. Includes hands-on labs and real-world project implementations with interactive exercises.'), 0.44606900215148926)]\n"
     ]
    }
   ],
   "source": [
    "print(results)"
   ]
  },
  {
   "cell_type": "code",
   "execution_count": 33,
   "id": "accfe2f5",
   "metadata": {},
   "outputs": [
    {
     "name": "stdout",
     "output_type": "stream",
     "text": [
      "[('C016', 0.21110709011554718), ('C001', 0.39871352910995483), ('C017', 0.4062874913215637), ('C003', 0.42717573046684265), ('C002', 0.44606900215148926)]\n"
     ]
    }
   ],
   "source": [
    "print(recommendations)"
   ]
  },
  {
   "cell_type": "markdown",
   "id": "7cbeeac5",
   "metadata": {},
   "source": [
    "### Generation"
   ]
  },
  {
   "cell_type": "code",
   "execution_count": 60,
   "id": "e2fa888d",
   "metadata": {},
   "outputs": [
    {
     "data": {
      "text/plain": [
       "PromptTemplate(input_variables=['context', 'question'], input_types={}, partial_variables={}, template='\\nAnswer this question using the provided context only. list recommendations and comment on relevance. Give the course id as well. ensure to give top 5 recoomended courses\\n.Give the response in markdown format.\\n{question}\\n\\nContext:\\n{context}\\n')"
      ]
     },
     "execution_count": 60,
     "metadata": {},
     "output_type": "execute_result"
    }
   ],
   "source": [
    "from langchain_core.prompts import PromptTemplate\n",
    "from langchain_core.runnables import RunnablePassthrough\n",
    "\n",
    "message = \"\"\"\n",
    "Answer this question using the provided context only. list recommendations and comment on relevance. Give the course id as well. ensure to give top 5 recoomended courses\n",
    ".Give the response in markdown format.\n",
    "{question}\n",
    "\n",
    "Context:\n",
    "{context}\n",
    "\"\"\"\n",
    "\n",
    "prompt = PromptTemplate.from_template(message)\n",
    "prompt"
   ]
  },
  {
   "cell_type": "code",
   "execution_count": 61,
   "id": "4d9c5e2d",
   "metadata": {},
   "outputs": [
    {
     "name": "stdout",
     "output_type": "stream",
     "text": [
      "tags=['Chroma', 'GoogleGenerativeAIEmbeddings'] vectorstore=<langchain_chroma.vectorstores.Chroma object at 0x7a76527eff50> search_kwargs={'k': 5}\n"
     ]
    }
   ],
   "source": [
    "print(retriever)"
   ]
  },
  {
   "cell_type": "code",
   "execution_count": 62,
   "id": "788c0cc0",
   "metadata": {},
   "outputs": [],
   "source": [
    "from langchain.chat_models import init_chat_model\n",
    "llm = init_chat_model(model_name, model_provider=\"google_genai\")\n",
    "\n",
    "rag_chain = {\"context\": retriever, \"question\": RunnablePassthrough()} | prompt | llm #using langchain for chaining Runnable pass through is to catch the question in runtime\n"
   ]
  },
  {
   "cell_type": "code",
   "execution_count": 63,
   "id": "38d67886",
   "metadata": {},
   "outputs": [
    {
     "name": "stdout",
     "output_type": "stream",
     "text": [
      "Here are the top 5 recommended courses based on the context, along with their relevance to Python programming:\n",
      "\n",
      "1.  **Course ID:** C016\n",
      "    *   **Course Title:** Python Programming for Data Science\n",
      "    *   **Relevance:** This course is directly relevant as it focuses on Python programming fundamentals specifically for data science, covering essential libraries like pandas, NumPy, and matplotlib.\n",
      "\n",
      "2.  **Course ID:** C001\n",
      "    *   **Course Title:** Foundations of Machine Learning\n",
      "    *   **Relevance:** Highly relevant. While not solely focused on Python, it uses Python and scikit-learn for implementing machine learning algorithms.\n",
      "\n",
      "3.  **Course ID:** C004\n",
      "    *   **Course Title:** Computer Vision and Image Processing\n",
      "    *   **Relevance:** Relevant. This course uses Python libraries like OpenCV, scikit-image, and TensorFlow for computer vision tasks.\n",
      "\n",
      "4.  **Course ID:** C003\n",
      "    *   **Course Title:** Natural Language Processing Fundamentals\n",
      "    *   **Relevance:** Relevant. This course uses Python libraries like Hugging Face and spaCy for NLP tasks.\n",
      "\n",
      "5.  **Course ID:** C017\n",
      "    *   **Course Title:** R Programming and Statistical Analysis\n",
      "    *   **Relevance:** Less relevant. This course focuses on R programming, which is an alternative language to Python for statistical analysis.\n"
     ]
    }
   ],
   "source": [
    "response = rag_chain.invoke(\"python programming\")\n",
    "\n",
    "print(response.content)"
   ]
  },
  {
   "cell_type": "markdown",
   "id": "88f025ba",
   "metadata": {},
   "source": [
    "### Test Results"
   ]
  },
  {
   "cell_type": "markdown",
   "id": "20fa875f",
   "metadata": {},
   "source": [
    "#### 1. “I’ve completed the ‘Python Programming for Data Science’ course and enjoy data visualization. What should I take next?”"
   ]
  },
  {
   "cell_type": "code",
   "execution_count": 64,
   "id": "612f64c6",
   "metadata": {},
   "outputs": [
    {
     "name": "stdout",
     "output_type": "stream",
     "text": [
      "Okay, based on your completion of 'Python Programming for Data Science' and your interest in data visualization, here are my top 5 recommended courses:\n",
      "\n",
      "1.  **Data Visualization with Tableau (C014)**\n",
      "    *   **Relevance:** Directly addresses your interest in data visualization. Since you enjoyed data visualization and have a Python background, Tableau will provide a strong platform to expand those skills.\n",
      "2.  **R Programming and Statistical Analysis (C017)**\n",
      "    *   **Relevance:** Builds on your programming skills and introduces another popular language for data analysis and visualization. Knowledge of R and its visualization libraries (ggplot2) would be valuable.\n",
      "3.  **SQL for Data Analysis (C012)**\n",
      "    *   **Relevance:** Essential for data professionals. Being able to extract and manipulate data using SQL is crucial for creating visualizations from various data sources.\n",
      "4.  **Foundations of Machine Learning (C001)**\n",
      "    *   **Relevance:** Provides a strong foundation for machine learning.\n",
      "5.  **Python Programming for Data Science (C016)**\n",
      "    *   **Relevance:** This is the course you have already completed.\n"
     ]
    }
   ],
   "source": [
    "response_1 = rag_chain.invoke(\"\"\"I’ve completed the ‘Python Programming for Data Science’ course and enjoy data \n",
    "visualization. What should I take next?\"\"\")\n",
    "\n",
    "print(response_1.content)"
   ]
  },
  {
   "cell_type": "markdown",
   "id": "168c5562",
   "metadata": {},
   "source": [
    "#### 2. I know Azure basics and want to manage containers and build CI/CD pipelines. Recommend courses.”"
   ]
  },
  {
   "cell_type": "code",
   "execution_count": 65,
   "id": "2b0c6d07",
   "metadata": {},
   "outputs": [
    {
     "name": "stdout",
     "output_type": "stream",
     "text": [
      "Based on your interest in managing containers and building CI/CD pipelines after learning Azure basics, here are the top 3 recommended courses:\n",
      "\n",
      "1.  **Containerization with Docker and Kubernetes (C009)**: This course is highly relevant as it directly addresses container management using Docker and Kubernetes. You'll learn the fundamentals of containerization, orchestration, and deployment of microservices, which aligns perfectly with your goals.\n",
      "2.  **DevOps Practices and CI/CD (C008)**: This course is highly relevant as it covers essential DevOps methodologies, including CI/CD pipeline implementation, version control with Git, and automation using tools like Jenkins or GitHub Actions. It also touches upon container registry integration, which complements the containerization course.\n",
      "3.  **Cloud Computing with Azure (C007)**: This course is relevant as it will allow you to further build your Azure skills in areas such as Azure Kubernetes Service and other relevant services.\n",
      "\n",
      "The remaining courses are less directly relevant to your stated goals but may be useful for broader knowledge:\n",
      "\n",
      "4.  **MLOps: Productionizing Machine Learning (C025)**: This course is less relevant as it focuses on MLOps, which is a specialized area within machine learning and may not be immediately necessary for your goals.\n",
      "5.  **Data Engineering on AWS (C006)**: This course is not relevant as it focuses on data engineering on AWS, which is a different cloud platform than Azure.\n"
     ]
    }
   ],
   "source": [
    "response_2 = rag_chain.invoke(\"\"\"I know Azure basics and want to manage containers and build CI/CD pipelines. \n",
    "Recommend courses.\"\"\")\n",
    "\n",
    "print(response_2.content)"
   ]
  },
  {
   "cell_type": "markdown",
   "id": "5667da83",
   "metadata": {},
   "source": [
    "#### 3.My background is in ML fundamentals; I’d like to specialize in neural networks and production workflows."
   ]
  },
  {
   "cell_type": "code",
   "execution_count": 66,
   "id": "579ac6a5",
   "metadata": {},
   "outputs": [
    {
     "name": "stdout",
     "output_type": "stream",
     "text": [
      "Based on your background in ML fundamentals and interest in specializing in neural networks and production workflows, here are my top 5 course recommendations:\n",
      "\n",
      "1.  **Course ID:** C002\n",
      "\n",
      "    **Course Title:** Deep Learning with TensorFlow and Keras\n",
      "\n",
      "    **Relevance:** This course is highly relevant as it directly focuses on neural network architectures using TensorFlow and Keras. It covers various types of neural networks (feedforward, CNNs, RNNs) and their applications, which is exactly what you're looking for.\n",
      "\n",
      "2.  **Course ID:** C025\n",
      "\n",
      "    **Course Title:** MLOps: Productionizing Machine Learning\n",
      "\n",
      "    **Relevance:** This course is essential for your interest in production workflows. It covers the practices needed to deploy and maintain ML models at scale, including model versioning, CI/CD, monitoring, and data drift detection.\n",
      "\n",
      "3.  **Course ID:** C004\n",
      "\n",
      "    **Course Title:** Computer Vision and Image Processing\n",
      "\n",
      "    **Relevance:** This course teaches the principles of computer vision and image processing, including CNNs. It's relevant if you're interested in applying neural networks to image-related tasks.\n",
      "\n",
      "4.  **Course ID:** C001\n",
      "\n",
      "    **Course Title:** Foundations of Machine Learning\n",
      "\n",
      "    **Relevance:** This course solidifies your ML understanding and covers feature engineering, model selection, hyperparameter tuning, and evaluation metrics. It provides a strong base for more advanced NN concepts.\n",
      "\n",
      "5.  **Course ID:** C005\n",
      "\n",
      "    **Course Title:** Reinforcement Learning Basics\n",
      "\n",
      "    **Relevance:** While not directly focused on your stated interests, reinforcement learning is an important area and this course provides an introduction to the field.\n"
     ]
    }
   ],
   "source": [
    "response_3 = rag_chain.invoke(\"\"\"My background is in ML fundamentals; I’d like to specialize in neural networks and \n",
    "production workflows..\"\"\")\n",
    "\n",
    "print(response_3.content)"
   ]
  },
  {
   "cell_type": "markdown",
   "id": "a9dd9490",
   "metadata": {},
   "source": [
    "#### 4. I want to learn to build and deploy microservices with Kubernetes—what courses fit best?"
   ]
  },
  {
   "cell_type": "code",
   "execution_count": 67,
   "id": "55cd945f",
   "metadata": {},
   "outputs": [
    {
     "name": "stdout",
     "output_type": "stream",
     "text": [
      "Based on your request to learn how to build and deploy microservices with Kubernetes, here are the top 5 recommended courses from the provided context:\n",
      "\n",
      "1.  **C009 - Containerization with Docker and Kubernetes:** This course is highly relevant as it directly covers container fundamentals with Docker and Kubernetes, including orchestration, deployments, services, ingress, cluster provisioning, autoscaling, rolling updates, and Helm. The hands-on labs deploy microservices architectures, making it an ideal choice.\n",
      "2.  **C010 - APIs and Microservices Architecture:** This course is highly relevant as it focuses on designing and implementing RESTful and GraphQL APIs for microservices. It covers microservices patterns like service discovery, circuit breakers, API gateways, containerized deployment, versioning, and security. The labs guide you through building, testing, and deploying interconnected services.\n",
      "3.  **C008 - DevOps Practices and CI/CD:** This course is relevant as it teaches DevOps methodologies, including CI/CD pipelines, container registry integration, and blue-green deployments. While not solely focused on microservices, it provides essential skills for deploying and managing them efficiently.\n",
      "4.  **C007 - Cloud Computing with Azure:** This course is relevant as it covers deploying scalable web applications using Azure Kubernetes Service. While not solely focused on microservices, it provides essential skills for deploying and managing them efficiently on Azure.\n",
      "5.  **C022 - Internet of Things (IoT) Development:** This course is not relevant as it focuses on IoT architecture, sensors, and edge computing. It does not directly address microservices or Kubernetes.\n"
     ]
    }
   ],
   "source": [
    "response_4 = rag_chain.invoke(\"\"\"I want to learn to build and deploy microservices with Kubernetes—what courses fit \n",
    "best?\"\"\")\n",
    "\n",
    "print(response_4.content)"
   ]
  },
  {
   "cell_type": "markdown",
   "id": "a63e3441",
   "metadata": {},
   "source": [
    "#### 5. I’m interested in blockchain and smart contracts but have no prior experience. Which courses do you suggest?"
   ]
  },
  {
   "cell_type": "code",
   "execution_count": 68,
   "id": "e304fe40",
   "metadata": {},
   "outputs": [
    {
     "name": "stdout",
     "output_type": "stream",
     "text": [
      "Based on your interest in blockchain and smart contracts with no prior experience, here are the top recommended courses from the provided context:\n",
      "\n",
      "**Top 1 Recommended Course:**\n",
      "\n",
      "*   **Course ID:** C023\n",
      "*   **Course Title:** Blockchain Technology and Smart Contracts\n",
      "*   **Relevance:** This course is highly relevant. It directly addresses your stated interest in blockchain and smart contracts. It covers fundamental concepts like cryptographic hashing, consensus algorithms, and distributed ledgers, as well as practical skills like developing smart contracts using Solidity on Ethereum. It also covers token standards, DApp patterns, and security, making it comprehensive for beginners.\n",
      "\n",
      "Since only one course is directly related to the request, here are some courses that might be helpful to learn before or after the main course.\n",
      "\n",
      "**Additional Recommended Courses (to complement C023):**\n",
      "*(These courses are recommended to enhance your skills in related areas that might be beneficial for blockchain development)*\n",
      "\n",
      "*   **Course ID:** C009\n",
      "*   **Course Title:** Containerization with Docker and Kubernetes\n",
      "*   **Relevance:** While not directly blockchain-focused, understanding containerization is increasingly important for deploying and managing decentralized applications (DApps) and blockchain infrastructure. Docker and Kubernetes are industry-standard tools for this purpose.\n",
      "\n",
      "*   **Course ID:** C013\n",
      "*   **Course Title:** NoSQL Databases and MongoDB\n",
      "*   **Relevance:** Blockchain is itself a type of database, but understanding other database paradigms, particularly NoSQL databases like MongoDB, can be helpful. Many DApps use NoSQL databases to store data that is not directly on the blockchain.\n",
      "\n",
      "The remaining courses (C022, C024) are less relevant to your specific request, as they focus on IoT and AR/VR development respectively.\n"
     ]
    }
   ],
   "source": [
    "response_5 = rag_chain.invoke(\"\"\"I’m interested in blockchain and smart contracts but have no prior experience. Which \n",
    "courses do you suggest?\"\"\")\n",
    "\n",
    "print(response_5.content)"
   ]
  }
 ],
 "metadata": {
  "kernelspec": {
   "display_name": "genai",
   "language": "python",
   "name": "python3"
  },
  "language_info": {
   "codemirror_mode": {
    "name": "ipython",
    "version": 3
   },
   "file_extension": ".py",
   "mimetype": "text/x-python",
   "name": "python",
   "nbconvert_exporter": "python",
   "pygments_lexer": "ipython3",
   "version": "3.11.13"
  }
 },
 "nbformat": 4,
 "nbformat_minor": 5
}
